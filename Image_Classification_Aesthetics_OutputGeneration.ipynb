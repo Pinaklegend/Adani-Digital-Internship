{
 "cells": [
  {
   "cell_type": "code",
   "execution_count": 1,
   "id": "dc253c41",
   "metadata": {},
   "outputs": [],
   "source": [
    "import pandas as pd\n",
    "import numpy as np\n",
    "import matplotlib.pyplot as plt\n",
    "%matplotlib inline\n",
    "from ydata_profiling import ProfileReport"
   ]
  },
  {
   "cell_type": "code",
   "execution_count": 2,
   "id": "c7e565f2",
   "metadata": {},
   "outputs": [],
   "source": [
    "from sentence_transformers import SentenceTransformer\n",
    "import math\n",
    "from sklearn.metrics.pairwise import cosine_distances, pairwise_distances, cosine_similarity"
   ]
  },
  {
   "cell_type": "code",
   "execution_count": 3,
   "id": "d7a46368",
   "metadata": {},
   "outputs": [],
   "source": [
    "from tensorflow.keras.applications.resnet50 import ResNet50, preprocess_input, decode_predictions\n",
    "from tensorflow.keras.preprocessing import image\n",
    "import cv2\n",
    "from tqdm.auto import tqdm\n",
    "import os"
   ]
  },
  {
   "cell_type": "code",
   "execution_count": 7,
   "id": "93931d8e",
   "metadata": {},
   "outputs": [],
   "source": [
    "import tensorflow as tf\n",
    "import urllib\n",
    "import timeit\n",
    "import requests\n",
    "from io import BytesIO"
   ]
  },
  {
   "cell_type": "code",
   "execution_count": 5,
   "id": "f4232ecb",
   "metadata": {},
   "outputs": [],
   "source": [
    "from qdrant_client import models, QdrantClient\n",
    "from qdrant_client.http.models import Distance, VectorParams\n",
    "from qdrant_client.http.models import PointStruct,  CollectionStatus"
   ]
  },
  {
   "cell_type": "code",
   "execution_count": 68,
   "id": "e4116c38",
   "metadata": {},
   "outputs": [],
   "source": [
    "from transformers import AutoProcessor, CLIPModel\n",
    "import torch.nn as nn\n",
    "import pickle"
   ]
  },
  {
   "cell_type": "code",
   "execution_count": null,
   "id": "f8bd3e02",
   "metadata": {},
   "outputs": [],
   "source": []
  },
  {
   "cell_type": "code",
   "execution_count": 7,
   "id": "16d8d0c5",
   "metadata": {},
   "outputs": [
    {
     "data": {
      "text/plain": [
       "(9131, 5)"
      ]
     },
     "execution_count": 7,
     "metadata": {},
     "output_type": "execute_result"
    }
   ],
   "source": [
    "df = pd.read_json('D:\\OLD Laptop Data\\RADHA-DATA and ML - PROJECT WORK\\ML and MLOPS\\Hotel Features_Search_SRP\\Data\\Priyam_FeaturesImages\\superappflexidb_dev.hotels_newparetohotels.json')\n",
    "df.shape"
   ]
  },
  {
   "cell_type": "code",
   "execution_count": 8,
   "id": "d81b5737",
   "metadata": {},
   "outputs": [
    {
     "data": {
      "text/plain": [
       "[{'originalImage': 'https://fastui.cltpstatic.com/image/upload/hotels/places/hotels/cms/2404/2404970/images/b4e12b2b_z.jpg',\n",
       "  'wideAngleImage': 'https://fastui.cltpstatic.com/image/upload/hotels/places/hotels/cms/2404/2404970/images/b4e12b2b_z_w.jpg',\n",
       "  'thumbNailImage': 'https://fastui.cltpstatic.com/image/upload/hotels/places/hotels/cms/2404/2404970/images/b4e12b2b_z_tn.jpg',\n",
       "  'imageAlt': 'Primary image',\n",
       "  'imageCategoryName': 'Others',\n",
       "  'imageSubCategoryName': 'Primary image',\n",
       "  'roomTypeId': None,\n",
       "  '_id': {'$oid': '653120caf0d1ae2fe023a152'}},\n",
       " {'originalImage': 'https://fastui.cltpstatic.com/image/upload/hotels/places/hotels/cms/2404/2404970/images/cfcaadb4_z.jpg',\n",
       "  'wideAngleImage': 'https://fastui.cltpstatic.com/image/upload/hotels/places/hotels/cms/2404/2404970/images/cfcaadb4_z_w.jpg',\n",
       "  'thumbNailImage': 'https://fastui.cltpstatic.com/image/upload/hotels/places/hotels/cms/2404/2404970/images/cfcaadb4_z_tn.jpg',\n",
       "  'imageAlt': 'Interior Entrance',\n",
       "  'imageCategoryName': 'Public Areas',\n",
       "  'imageSubCategoryName': 'Interior Entrance',\n",
       "  'roomTypeId': None,\n",
       "  '_id': {'$oid': '653120caf0d1ae2fe023a153'}},\n",
       " {'originalImage': 'https://fastui.cltpstatic.com/image/upload/hotels/places/hotels/cms/2404/2404970/images/4a98a073_z.jpg',\n",
       "  'wideAngleImage': 'https://fastui.cltpstatic.com/image/upload/hotels/places/hotels/cms/2404/2404970/images/4a98a073_z_w.jpg',\n",
       "  'thumbNailImage': 'https://fastui.cltpstatic.com/image/upload/hotels/places/hotels/cms/2404/2404970/images/4a98a073_z_tn.jpg',\n",
       "  'imageAlt': 'Room',\n",
       "  'imageCategoryName': 'Others',\n",
       "  'imageSubCategoryName': 'Room',\n",
       "  'roomTypeId': None,\n",
       "  '_id': {'$oid': '653120caf0d1ae2fe023a154'}},\n",
       " {'originalImage': 'https://fastui.cltpstatic.com/image/upload/hotels/places/hotels/cms/2404/2404970/images/1bd69318_z.jpg',\n",
       "  'wideAngleImage': 'https://fastui.cltpstatic.com/image/upload/hotels/places/hotels/cms/2404/2404970/images/1bd69318_z_w.jpg',\n",
       "  'thumbNailImage': 'https://fastui.cltpstatic.com/image/upload/hotels/places/hotels/cms/2404/2404970/images/1bd69318_z_tn.jpg',\n",
       "  'imageAlt': 'Room',\n",
       "  'imageCategoryName': 'Others',\n",
       "  'imageSubCategoryName': 'Room',\n",
       "  'roomTypeId': None,\n",
       "  '_id': {'$oid': '653120caf0d1ae2fe023a155'}},\n",
       " {'originalImage': 'https://fastui.cltpstatic.com/image/upload/hotels/places/hotels/cms/2404/2404970/images/8de27d04_z.jpg',\n",
       "  'wideAngleImage': 'https://fastui.cltpstatic.com/image/upload/hotels/places/hotels/cms/2404/2404970/images/8de27d04_z_w.jpg',\n",
       "  'thumbNailImage': 'https://fastui.cltpstatic.com/image/upload/hotels/places/hotels/cms/2404/2404970/images/8de27d04_z_tn.jpg',\n",
       "  'imageAlt': 'Room',\n",
       "  'imageCategoryName': 'Others',\n",
       "  'imageSubCategoryName': 'Room',\n",
       "  'roomTypeId': None,\n",
       "  '_id': {'$oid': '653120caf0d1ae2fe023a156'}},\n",
       " {'originalImage': 'https://fastui.cltpstatic.com/image/upload/hotels/places/hotels/cms/2404/2404970/images/171645d3_z.jpg',\n",
       "  'wideAngleImage': 'https://fastui.cltpstatic.com/image/upload/hotels/places/hotels/cms/2404/2404970/images/171645d3_z_w.jpg',\n",
       "  'thumbNailImage': 'https://fastui.cltpstatic.com/image/upload/hotels/places/hotels/cms/2404/2404970/images/171645d3_z_tn.jpg',\n",
       "  'imageAlt': 'Room',\n",
       "  'imageCategoryName': 'Others',\n",
       "  'imageSubCategoryName': 'Room',\n",
       "  'roomTypeId': None,\n",
       "  '_id': {'$oid': '653120caf0d1ae2fe023a157'}},\n",
       " {'originalImage': 'https://fastui.cltpstatic.com/image/upload/hotels/places/hotels/cms/2404/2404970/images/1cce4582_z.jpg',\n",
       "  'wideAngleImage': 'https://fastui.cltpstatic.com/image/upload/hotels/places/hotels/cms/2404/2404970/images/1cce4582_z_w.jpg',\n",
       "  'thumbNailImage': 'https://fastui.cltpstatic.com/image/upload/hotels/places/hotels/cms/2404/2404970/images/1cce4582_z_tn.jpg',\n",
       "  'imageAlt': 'Room',\n",
       "  'imageCategoryName': 'Others',\n",
       "  'imageSubCategoryName': 'Room',\n",
       "  'roomTypeId': None,\n",
       "  '_id': {'$oid': '653120caf0d1ae2fe023a158'}},\n",
       " {'originalImage': 'https://fastui.cltpstatic.com/image/upload/hotels/places/hotels/cms/2404/2404970/images/950c72a5_z.jpg',\n",
       "  'wideAngleImage': 'https://fastui.cltpstatic.com/image/upload/hotels/places/hotels/cms/2404/2404970/images/950c72a5_z_w.jpg',\n",
       "  'thumbNailImage': 'https://fastui.cltpstatic.com/image/upload/hotels/places/hotels/cms/2404/2404970/images/950c72a5_z_tn.jpg',\n",
       "  'imageAlt': 'Room',\n",
       "  'imageCategoryName': 'Others',\n",
       "  'imageSubCategoryName': 'Room',\n",
       "  'roomTypeId': None,\n",
       "  '_id': {'$oid': '653120caf0d1ae2fe023a159'}},\n",
       " {'originalImage': 'https://fastui.cltpstatic.com/image/upload/hotels/places/hotels/cms/2404/2404970/images/d31035d8_z.jpg',\n",
       "  'wideAngleImage': 'https://fastui.cltpstatic.com/image/upload/hotels/places/hotels/cms/2404/2404970/images/d31035d8_z_w.jpg',\n",
       "  'thumbNailImage': 'https://fastui.cltpstatic.com/image/upload/hotels/places/hotels/cms/2404/2404970/images/d31035d8_z_tn.jpg',\n",
       "  'imageAlt': 'Room',\n",
       "  'imageCategoryName': 'Others',\n",
       "  'imageSubCategoryName': 'Room',\n",
       "  'roomTypeId': None,\n",
       "  '_id': {'$oid': '653120caf0d1ae2fe023a15a'}},\n",
       " {'originalImage': 'https://fastui.cltpstatic.com/image/upload/hotels/places/hotels/cms/2404/2404970/images/76527e96_z.jpg',\n",
       "  'wideAngleImage': 'https://fastui.cltpstatic.com/image/upload/hotels/places/hotels/cms/2404/2404970/images/76527e96_z_w.jpg',\n",
       "  'thumbNailImage': 'https://fastui.cltpstatic.com/image/upload/hotels/places/hotels/cms/2404/2404970/images/76527e96_z_tn.jpg',\n",
       "  'imageAlt': 'Room',\n",
       "  'imageCategoryName': 'Others',\n",
       "  'imageSubCategoryName': 'Room',\n",
       "  'roomTypeId': None,\n",
       "  '_id': {'$oid': '653120caf0d1ae2fe023a15b'}},\n",
       " {'originalImage': 'https://fastui.cltpstatic.com/image/upload/hotels/places/hotels/cms/2404/2404970/images/25cb5b93_z.jpg',\n",
       "  'wideAngleImage': 'https://fastui.cltpstatic.com/image/upload/hotels/places/hotels/cms/2404/2404970/images/25cb5b93_z_w.jpg',\n",
       "  'thumbNailImage': 'https://fastui.cltpstatic.com/image/upload/hotels/places/hotels/cms/2404/2404970/images/25cb5b93_z_tn.jpg',\n",
       "  'imageAlt': 'Living Area',\n",
       "  'imageCategoryName': 'Others',\n",
       "  'imageSubCategoryName': 'Living Area',\n",
       "  'roomTypeId': None,\n",
       "  '_id': {'$oid': '653120caf0d1ae2fe023a15c'}},\n",
       " {'originalImage': 'https://fastui.cltpstatic.com/image/upload/hotels/places/hotels/cms/2404/2404970/images/431ed689_z.jpg',\n",
       "  'wideAngleImage': 'https://fastui.cltpstatic.com/image/upload/hotels/places/hotels/cms/2404/2404970/images/431ed689_z_w.jpg',\n",
       "  'thumbNailImage': 'https://fastui.cltpstatic.com/image/upload/hotels/places/hotels/cms/2404/2404970/images/431ed689_z_tn.jpg',\n",
       "  'imageAlt': 'Living Area',\n",
       "  'imageCategoryName': 'Others',\n",
       "  'imageSubCategoryName': 'Living Area',\n",
       "  'roomTypeId': None,\n",
       "  '_id': {'$oid': '653120caf0d1ae2fe023a15d'}},\n",
       " {'originalImage': 'https://fastui.cltpstatic.com/image/upload/hotels/places/hotels/cms/2404/2404970/images/368bd4ab_z.jpg',\n",
       "  'wideAngleImage': 'https://fastui.cltpstatic.com/image/upload/hotels/places/hotels/cms/2404/2404970/images/368bd4ab_z_w.jpg',\n",
       "  'thumbNailImage': 'https://fastui.cltpstatic.com/image/upload/hotels/places/hotels/cms/2404/2404970/images/368bd4ab_z_tn.jpg',\n",
       "  'imageAlt': 'Private Pool',\n",
       "  'imageCategoryName': 'Others',\n",
       "  'imageSubCategoryName': 'Private Pool',\n",
       "  'roomTypeId': None,\n",
       "  '_id': {'$oid': '653120caf0d1ae2fe023a15e'}},\n",
       " {'originalImage': 'https://fastui.cltpstatic.com/image/upload/hotels/places/hotels/cms/2404/2404970/images/e0edbd10_z.jpg',\n",
       "  'wideAngleImage': 'https://fastui.cltpstatic.com/image/upload/hotels/places/hotels/cms/2404/2404970/images/e0edbd10_z_w.jpg',\n",
       "  'thumbNailImage': 'https://fastui.cltpstatic.com/image/upload/hotels/places/hotels/cms/2404/2404970/images/e0edbd10_z_tn.jpg',\n",
       "  'imageAlt': 'Bathroom',\n",
       "  'imageCategoryName': 'Others',\n",
       "  'imageSubCategoryName': 'Bathroom',\n",
       "  'roomTypeId': None,\n",
       "  '_id': {'$oid': '653120caf0d1ae2fe023a15f'}},\n",
       " {'originalImage': 'https://fastui.cltpstatic.com/image/upload/hotels/places/hotels/cms/2404/2404970/images/73122ae6_z.jpg',\n",
       "  'wideAngleImage': 'https://fastui.cltpstatic.com/image/upload/hotels/places/hotels/cms/2404/2404970/images/73122ae6_z_w.jpg',\n",
       "  'thumbNailImage': 'https://fastui.cltpstatic.com/image/upload/hotels/places/hotels/cms/2404/2404970/images/73122ae6_z_tn.jpg',\n",
       "  'imageAlt': 'Bathroom',\n",
       "  'imageCategoryName': 'Others',\n",
       "  'imageSubCategoryName': 'Bathroom',\n",
       "  'roomTypeId': None,\n",
       "  '_id': {'$oid': '653120caf0d1ae2fe023a160'}},\n",
       " {'originalImage': 'https://fastui.cltpstatic.com/image/upload/hotels/places/hotels/cms/2404/2404970/images/28a9e2be_z.jpg',\n",
       "  'wideAngleImage': 'https://fastui.cltpstatic.com/image/upload/hotels/places/hotels/cms/2404/2404970/images/28a9e2be_z_w.jpg',\n",
       "  'thumbNailImage': 'https://fastui.cltpstatic.com/image/upload/hotels/places/hotels/cms/2404/2404970/images/28a9e2be_z_tn.jpg',\n",
       "  'imageAlt': 'Bathroom',\n",
       "  'imageCategoryName': 'Others',\n",
       "  'imageSubCategoryName': 'Bathroom',\n",
       "  'roomTypeId': None,\n",
       "  '_id': {'$oid': '653120caf0d1ae2fe023a161'}},\n",
       " {'originalImage': 'https://fastui.cltpstatic.com/image/upload/hotels/places/hotels/cms/2404/2404970/images/83f2d168_z.jpg',\n",
       "  'wideAngleImage': 'https://fastui.cltpstatic.com/image/upload/hotels/places/hotels/cms/2404/2404970/images/83f2d168_z_w.jpg',\n",
       "  'thumbNailImage': 'https://fastui.cltpstatic.com/image/upload/hotels/places/hotels/cms/2404/2404970/images/83f2d168_z_tn.jpg',\n",
       "  'imageAlt': 'Pool',\n",
       "  'imageCategoryName': 'Outdoors',\n",
       "  'imageSubCategoryName': 'Pool',\n",
       "  'roomTypeId': None,\n",
       "  '_id': {'$oid': '653120caf0d1ae2fe023a162'}},\n",
       " {'originalImage': 'https://fastui.cltpstatic.com/image/upload/hotels/places/hotels/cms/2404/2404970/images/06118fd2_z.jpg',\n",
       "  'wideAngleImage': 'https://fastui.cltpstatic.com/image/upload/hotels/places/hotels/cms/2404/2404970/images/06118fd2_z_w.jpg',\n",
       "  'thumbNailImage': 'https://fastui.cltpstatic.com/image/upload/hotels/places/hotels/cms/2404/2404970/images/06118fd2_z_tn.jpg',\n",
       "  'imageAlt': 'Pool',\n",
       "  'imageCategoryName': 'Outdoors',\n",
       "  'imageSubCategoryName': 'Pool',\n",
       "  'roomTypeId': None,\n",
       "  '_id': {'$oid': '653120caf0d1ae2fe023a163'}},\n",
       " {'originalImage': 'https://fastui.cltpstatic.com/image/upload/hotels/places/hotels/cms/2404/2404970/images/5f4c8acf_z.jpg',\n",
       "  'wideAngleImage': 'https://fastui.cltpstatic.com/image/upload/hotels/places/hotels/cms/2404/2404970/images/5f4c8acf_z_w.jpg',\n",
       "  'thumbNailImage': 'https://fastui.cltpstatic.com/image/upload/hotels/places/hotels/cms/2404/2404970/images/5f4c8acf_z_tn.jpg',\n",
       "  'imageAlt': 'Gym',\n",
       "  'imageCategoryName': 'Fitness Centre',\n",
       "  'imageSubCategoryName': 'Gym',\n",
       "  'roomTypeId': None,\n",
       "  '_id': {'$oid': '653120caf0d1ae2fe023a164'}},\n",
       " {'originalImage': 'https://fastui.cltpstatic.com/image/upload/hotels/places/hotels/cms/2404/2404970/images/4388f3f8_z.jpg',\n",
       "  'wideAngleImage': 'https://fastui.cltpstatic.com/image/upload/hotels/places/hotels/cms/2404/2404970/images/4388f3f8_z_w.jpg',\n",
       "  'thumbNailImage': 'https://fastui.cltpstatic.com/image/upload/hotels/places/hotels/cms/2404/2404970/images/4388f3f8_z_tn.jpg',\n",
       "  'imageAlt': 'Spa',\n",
       "  'imageCategoryName': 'Relaxation and Rejuvenation',\n",
       "  'imageSubCategoryName': 'Spa',\n",
       "  'roomTypeId': None,\n",
       "  '_id': {'$oid': '653120caf0d1ae2fe023a165'}},\n",
       " {'originalImage': 'https://fastui.cltpstatic.com/image/upload/hotels/places/hotels/cms/2404/2404970/images/b2efcdaf_z.jpg',\n",
       "  'wideAngleImage': 'https://fastui.cltpstatic.com/image/upload/hotels/places/hotels/cms/2404/2404970/images/b2efcdaf_z_w.jpg',\n",
       "  'thumbNailImage': 'https://fastui.cltpstatic.com/image/upload/hotels/places/hotels/cms/2404/2404970/images/b2efcdaf_z_tn.jpg',\n",
       "  'imageAlt': 'Spa',\n",
       "  'imageCategoryName': 'Relaxation and Rejuvenation',\n",
       "  'imageSubCategoryName': 'Spa',\n",
       "  'roomTypeId': None,\n",
       "  '_id': {'$oid': '653120caf0d1ae2fe023a166'}},\n",
       " {'originalImage': 'https://fastui.cltpstatic.com/image/upload/hotels/places/hotels/cms/2404/2404970/images/edaed2d6_z.jpg',\n",
       "  'wideAngleImage': 'https://fastui.cltpstatic.com/image/upload/hotels/places/hotels/cms/2404/2404970/images/edaed2d6_z_w.jpg',\n",
       "  'thumbNailImage': 'https://fastui.cltpstatic.com/image/upload/hotels/places/hotels/cms/2404/2404970/images/edaed2d6_z_tn.jpg',\n",
       "  'imageAlt': 'Spa',\n",
       "  'imageCategoryName': 'Relaxation and Rejuvenation',\n",
       "  'imageSubCategoryName': 'Spa',\n",
       "  'roomTypeId': None,\n",
       "  '_id': {'$oid': '653120caf0d1ae2fe023a167'}},\n",
       " {'originalImage': 'https://fastui.cltpstatic.com/image/upload/hotels/places/hotels/cms/2404/2404970/images/4f382bb0_z.jpg',\n",
       "  'wideAngleImage': 'https://fastui.cltpstatic.com/image/upload/hotels/places/hotels/cms/2404/2404970/images/4f382bb0_z_w.jpg',\n",
       "  'thumbNailImage': 'https://fastui.cltpstatic.com/image/upload/hotels/places/hotels/cms/2404/2404970/images/4f382bb0_z_tn.jpg',\n",
       "  'imageAlt': 'Spa treatment',\n",
       "  'imageCategoryName': 'Others',\n",
       "  'imageSubCategoryName': 'Spa treatment',\n",
       "  'roomTypeId': None,\n",
       "  '_id': {'$oid': '653120caf0d1ae2fe023a168'}},\n",
       " {'originalImage': 'https://fastui.cltpstatic.com/image/upload/hotels/places/hotels/cms/2404/2404970/images/1bfccc05_z.jpg',\n",
       "  'wideAngleImage': 'https://fastui.cltpstatic.com/image/upload/hotels/places/hotels/cms/2404/2404970/images/1bfccc05_z_w.jpg',\n",
       "  'thumbNailImage': 'https://fastui.cltpstatic.com/image/upload/hotels/places/hotels/cms/2404/2404970/images/1bfccc05_z_tn.jpg',\n",
       "  'imageAlt': 'Bicycling',\n",
       "  'imageCategoryName': 'Outdoors',\n",
       "  'imageSubCategoryName': 'Bicycling',\n",
       "  'roomTypeId': None,\n",
       "  '_id': {'$oid': '653120caf0d1ae2fe023a169'}},\n",
       " {'originalImage': 'https://fastui.cltpstatic.com/image/upload/hotels/places/hotels/cms/2404/2404970/images/23e48373_z.jpg',\n",
       "  'wideAngleImage': 'https://fastui.cltpstatic.com/image/upload/hotels/places/hotels/cms/2404/2404970/images/23e48373_z_w.jpg',\n",
       "  'thumbNailImage': 'https://fastui.cltpstatic.com/image/upload/hotels/places/hotels/cms/2404/2404970/images/23e48373_z_tn.jpg',\n",
       "  'imageAlt': 'Water-based activities',\n",
       "  'imageCategoryName': 'Adventure activities',\n",
       "  'imageSubCategoryName': 'Water-based activities',\n",
       "  'roomTypeId': None,\n",
       "  '_id': {'$oid': '653120caf0d1ae2fe023a16a'}},\n",
       " {'originalImage': 'https://fastui.cltpstatic.com/image/upload/hotels/places/hotels/cms/2404/2404970/images/f331cd7a_z.jpg',\n",
       "  'wideAngleImage': 'https://fastui.cltpstatic.com/image/upload/hotels/places/hotels/cms/2404/2404970/images/f331cd7a_z_w.jpg',\n",
       "  'thumbNailImage': 'https://fastui.cltpstatic.com/image/upload/hotels/places/hotels/cms/2404/2404970/images/f331cd7a_z_tn.jpg',\n",
       "  'imageAlt': 'Kayaking',\n",
       "  'imageCategoryName': 'Adventure activities',\n",
       "  'imageSubCategoryName': 'Kayaking',\n",
       "  'roomTypeId': None,\n",
       "  '_id': {'$oid': '653120caf0d1ae2fe023a16b'}},\n",
       " {'originalImage': 'https://fastui.cltpstatic.com/image/upload/hotels/places/hotels/cms/2404/2404970/images/e190cc9b_z.jpg',\n",
       "  'wideAngleImage': 'https://fastui.cltpstatic.com/image/upload/hotels/places/hotels/cms/2404/2404970/images/e190cc9b_z_w.jpg',\n",
       "  'thumbNailImage': 'https://fastui.cltpstatic.com/image/upload/hotels/places/hotels/cms/2404/2404970/images/e190cc9b_z_tn.jpg',\n",
       "  'imageAlt': 'Kayaking',\n",
       "  'imageCategoryName': 'Adventure activities',\n",
       "  'imageSubCategoryName': 'Kayaking',\n",
       "  'roomTypeId': None,\n",
       "  '_id': {'$oid': '653120caf0d1ae2fe023a16c'}},\n",
       " {'originalImage': 'https://fastui.cltpstatic.com/image/upload/hotels/places/hotels/cms/2404/2404970/images/fcc788c3_z.jpg',\n",
       "  'wideAngleImage': 'https://fastui.cltpstatic.com/image/upload/hotels/places/hotels/cms/2404/2404970/images/fcc788c3_z_w.jpg',\n",
       "  'thumbNailImage': 'https://fastui.cltpstatic.com/image/upload/hotels/places/hotels/cms/2404/2404970/images/fcc788c3_z_tn.jpg',\n",
       "  'imageAlt': 'Amenity',\n",
       "  'imageCategoryName': 'Others',\n",
       "  'imageSubCategoryName': 'Amenity',\n",
       "  'roomTypeId': None,\n",
       "  '_id': {'$oid': '653120caf0d1ae2fe023a16d'}},\n",
       " {'originalImage': 'https://fastui.cltpstatic.com/image/upload/hotels/places/hotels/cms/2404/2404970/images/655c8546_z.jpg',\n",
       "  'wideAngleImage': 'https://fastui.cltpstatic.com/image/upload/hotels/places/hotels/cms/2404/2404970/images/655c8546_z_w.jpg',\n",
       "  'thumbNailImage': 'https://fastui.cltpstatic.com/image/upload/hotels/places/hotels/cms/2404/2404970/images/655c8546_z_tn.jpg',\n",
       "  'imageAlt': \"Children's Play Area\",\n",
       "  'imageCategoryName': \"Children's Entertainment Service\",\n",
       "  'imageSubCategoryName': \"Children's Play Area\",\n",
       "  'roomTypeId': None,\n",
       "  '_id': {'$oid': '653120caf0d1ae2fe023a16e'}},\n",
       " {'originalImage': 'https://fastui.cltpstatic.com/image/upload/hotels/places/hotels/cms/2404/2404970/images/f0e8cf25_z.jpg',\n",
       "  'wideAngleImage': 'https://fastui.cltpstatic.com/image/upload/hotels/places/hotels/cms/2404/2404970/images/f0e8cf25_z_w.jpg',\n",
       "  'thumbNailImage': 'https://fastui.cltpstatic.com/image/upload/hotels/places/hotels/cms/2404/2404970/images/f0e8cf25_z_tn.jpg',\n",
       "  'imageAlt': 'Breakfast Area',\n",
       "  'imageCategoryName': 'Food & Dining',\n",
       "  'imageSubCategoryName': 'Breakfast Area',\n",
       "  'roomTypeId': None,\n",
       "  '_id': {'$oid': '653120caf0d1ae2fe023a16f'}},\n",
       " {'originalImage': 'https://fastui.cltpstatic.com/image/upload/hotels/places/hotels/cms/2404/2404970/images/5c361641_z.jpg',\n",
       "  'wideAngleImage': 'https://fastui.cltpstatic.com/image/upload/hotels/places/hotels/cms/2404/2404970/images/5c361641_z_w.jpg',\n",
       "  'thumbNailImage': 'https://fastui.cltpstatic.com/image/upload/hotels/places/hotels/cms/2404/2404970/images/5c361641_z_tn.jpg',\n",
       "  'imageAlt': 'Restaurant',\n",
       "  'imageCategoryName': 'Food & Dining',\n",
       "  'imageSubCategoryName': 'Restaurant',\n",
       "  'roomTypeId': None,\n",
       "  '_id': {'$oid': '653120caf0d1ae2fe023a170'}},\n",
       " {'originalImage': 'https://fastui.cltpstatic.com/image/upload/hotels/places/hotels/cms/2404/2404970/images/d5e0a3ba_z.jpg',\n",
       "  'wideAngleImage': 'https://fastui.cltpstatic.com/image/upload/hotels/places/hotels/cms/2404/2404970/images/d5e0a3ba_z_w.jpg',\n",
       "  'thumbNailImage': 'https://fastui.cltpstatic.com/image/upload/hotels/places/hotels/cms/2404/2404970/images/d5e0a3ba_z_tn.jpg',\n",
       "  'imageAlt': 'Dining Area',\n",
       "  'imageCategoryName': 'Food & Dining',\n",
       "  'imageSubCategoryName': 'Dining Area',\n",
       "  'roomTypeId': None,\n",
       "  '_id': {'$oid': '653120caf0d1ae2fe023a171'}},\n",
       " {'originalImage': 'https://fastui.cltpstatic.com/image/upload/hotels/places/hotels/cms/2404/2404970/images/9b2abcdb_z.jpg',\n",
       "  'wideAngleImage': 'https://fastui.cltpstatic.com/image/upload/hotels/places/hotels/cms/2404/2404970/images/9b2abcdb_z_w.jpg',\n",
       "  'thumbNailImage': 'https://fastui.cltpstatic.com/image/upload/hotels/places/hotels/cms/2404/2404970/images/9b2abcdb_z_tn.jpg',\n",
       "  'imageAlt': 'Dining Area',\n",
       "  'imageCategoryName': 'Food & Dining',\n",
       "  'imageSubCategoryName': 'Dining Area',\n",
       "  'roomTypeId': None,\n",
       "  '_id': {'$oid': '653120caf0d1ae2fe023a172'}},\n",
       " {'originalImage': 'https://fastui.cltpstatic.com/image/upload/hotels/places/hotels/cms/2404/2404970/images/dedbb841_z.jpg',\n",
       "  'wideAngleImage': 'https://fastui.cltpstatic.com/image/upload/hotels/places/hotels/cms/2404/2404970/images/dedbb841_z_w.jpg',\n",
       "  'thumbNailImage': 'https://fastui.cltpstatic.com/image/upload/hotels/places/hotels/cms/2404/2404970/images/dedbb841_z_tn.jpg',\n",
       "  'imageAlt': 'Dining Area',\n",
       "  'imageCategoryName': 'Food & Dining',\n",
       "  'imageSubCategoryName': 'Dining Area',\n",
       "  'roomTypeId': None,\n",
       "  '_id': {'$oid': '653120caf0d1ae2fe023a173'}},\n",
       " {'originalImage': 'https://fastui.cltpstatic.com/image/upload/hotels/places/hotels/cms/2404/2404970/images/ab827c2d_z.jpg',\n",
       "  'wideAngleImage': 'https://fastui.cltpstatic.com/image/upload/hotels/places/hotels/cms/2404/2404970/images/ab827c2d_z_w.jpg',\n",
       "  'thumbNailImage': 'https://fastui.cltpstatic.com/image/upload/hotels/places/hotels/cms/2404/2404970/images/ab827c2d_z_tn.jpg',\n",
       "  'imageAlt': 'Dining Area',\n",
       "  'imageCategoryName': 'Food & Dining',\n",
       "  'imageSubCategoryName': 'Dining Area',\n",
       "  'roomTypeId': None,\n",
       "  '_id': {'$oid': '653120caf0d1ae2fe023a174'}},\n",
       " {'originalImage': 'https://fastui.cltpstatic.com/image/upload/hotels/places/hotels/cms/2404/2404970/images/f34928c6_z.jpg',\n",
       "  'wideAngleImage': 'https://fastui.cltpstatic.com/image/upload/hotels/places/hotels/cms/2404/2404970/images/f34928c6_z_w.jpg',\n",
       "  'thumbNailImage': 'https://fastui.cltpstatic.com/image/upload/hotels/places/hotels/cms/2404/2404970/images/f34928c6_z_tn.jpg',\n",
       "  'imageAlt': 'Dining Area',\n",
       "  'imageCategoryName': 'Food & Dining',\n",
       "  'imageSubCategoryName': 'Dining Area',\n",
       "  'roomTypeId': None,\n",
       "  '_id': {'$oid': '653120caf0d1ae2fe023a175'}},\n",
       " {'originalImage': 'https://fastui.cltpstatic.com/image/upload/hotels/places/hotels/cms/2404/2404970/images/3c80e5f1_z.jpg',\n",
       "  'wideAngleImage': 'https://fastui.cltpstatic.com/image/upload/hotels/places/hotels/cms/2404/2404970/images/3c80e5f1_z_w.jpg',\n",
       "  'thumbNailImage': 'https://fastui.cltpstatic.com/image/upload/hotels/places/hotels/cms/2404/2404970/images/3c80e5f1_z_tn.jpg',\n",
       "  'imageAlt': 'Dining Area',\n",
       "  'imageCategoryName': 'Food & Dining',\n",
       "  'imageSubCategoryName': 'Dining Area',\n",
       "  'roomTypeId': None,\n",
       "  '_id': {'$oid': '653120caf0d1ae2fe023a176'}},\n",
       " {'originalImage': 'https://fastui.cltpstatic.com/image/upload/hotels/places/hotels/cms/2404/2404970/images/0dc518cb_z.jpg',\n",
       "  'wideAngleImage': 'https://fastui.cltpstatic.com/image/upload/hotels/places/hotels/cms/2404/2404970/images/0dc518cb_z_w.jpg',\n",
       "  'thumbNailImage': 'https://fastui.cltpstatic.com/image/upload/hotels/places/hotels/cms/2404/2404970/images/0dc518cb_z_tn.jpg',\n",
       "  'imageAlt': 'Dining Area',\n",
       "  'imageCategoryName': 'Food & Dining',\n",
       "  'imageSubCategoryName': 'Dining Area',\n",
       "  'roomTypeId': None,\n",
       "  '_id': {'$oid': '653120caf0d1ae2fe023a177'}},\n",
       " {'originalImage': 'https://fastui.cltpstatic.com/image/upload/hotels/places/hotels/cms/2404/2404970/images/c7978c19_z.jpg',\n",
       "  'wideAngleImage': 'https://fastui.cltpstatic.com/image/upload/hotels/places/hotels/cms/2404/2404970/images/c7978c19_z_w.jpg',\n",
       "  'thumbNailImage': 'https://fastui.cltpstatic.com/image/upload/hotels/places/hotels/cms/2404/2404970/images/c7978c19_z_tn.jpg',\n",
       "  'imageAlt': 'Dining Area',\n",
       "  'imageCategoryName': 'Food & Dining',\n",
       "  'imageSubCategoryName': 'Dining Area',\n",
       "  'roomTypeId': None,\n",
       "  '_id': {'$oid': '653120caf0d1ae2fe023a178'}},\n",
       " {'originalImage': 'https://fastui.cltpstatic.com/image/upload/hotels/places/hotels/cms/2404/2404970/images/b384006b_z.jpg',\n",
       "  'wideAngleImage': 'https://fastui.cltpstatic.com/image/upload/hotels/places/hotels/cms/2404/2404970/images/b384006b_z_w.jpg',\n",
       "  'thumbNailImage': 'https://fastui.cltpstatic.com/image/upload/hotels/places/hotels/cms/2404/2404970/images/b384006b_z_tn.jpg',\n",
       "  'imageAlt': 'Meeting Room',\n",
       "  'imageCategoryName': 'Business Centre',\n",
       "  'imageSubCategoryName': 'Meeting Room',\n",
       "  'roomTypeId': None,\n",
       "  '_id': {'$oid': '653120caf0d1ae2fe023a179'}},\n",
       " {'originalImage': 'https://fastui.cltpstatic.com/image/upload/hotels/places/hotels/cms/2404/2404970/images/89abced1_z.jpg',\n",
       "  'wideAngleImage': 'https://fastui.cltpstatic.com/image/upload/hotels/places/hotels/cms/2404/2404970/images/89abced1_z_w.jpg',\n",
       "  'thumbNailImage': 'https://fastui.cltpstatic.com/image/upload/hotels/places/hotels/cms/2404/2404970/images/89abced1_z_tn.jpg',\n",
       "  'imageAlt': 'Property Grounds',\n",
       "  'imageCategoryName': 'Public Areas',\n",
       "  'imageSubCategoryName': 'Property Grounds',\n",
       "  'roomTypeId': None,\n",
       "  '_id': {'$oid': '653120caf0d1ae2fe023a17a'}},\n",
       " {'originalImage': 'https://fastui.cltpstatic.com/image/upload/hotels/places/hotels/cms/2404/2404970/images/f598db4f_z.jpg',\n",
       "  'wideAngleImage': 'https://fastui.cltpstatic.com/image/upload/hotels/places/hotels/cms/2404/2404970/images/f598db4f_z_w.jpg',\n",
       "  'thumbNailImage': 'https://fastui.cltpstatic.com/image/upload/hotels/places/hotels/cms/2404/2404970/images/f598db4f_z_tn.jpg',\n",
       "  'imageAlt': 'Property Grounds',\n",
       "  'imageCategoryName': 'Public Areas',\n",
       "  'imageSubCategoryName': 'Property Grounds',\n",
       "  'roomTypeId': None,\n",
       "  '_id': {'$oid': '653120caf0d1ae2fe023a17b'}},\n",
       " {'originalImage': 'https://fastui.cltpstatic.com/image/upload/hotels/places/hotels/cms/2404/2404970/images/21fc2bd0_z.jpg',\n",
       "  'wideAngleImage': 'https://fastui.cltpstatic.com/image/upload/hotels/places/hotels/cms/2404/2404970/images/21fc2bd0_z_w.jpg',\n",
       "  'thumbNailImage': 'https://fastui.cltpstatic.com/image/upload/hotels/places/hotels/cms/2404/2404970/images/21fc2bd0_z_tn.jpg',\n",
       "  'imageAlt': 'Facade',\n",
       "  'imageCategoryName': 'Hotel Exterior',\n",
       "  'imageSubCategoryName': 'Facade',\n",
       "  'roomTypeId': None,\n",
       "  '_id': {'$oid': '653120caf0d1ae2fe023a17c'}},\n",
       " {'originalImage': 'https://fastui.cltpstatic.com/image/upload/hotels/places/hotels/cms/2404/2404970/images/760bfd0d_z.jpg',\n",
       "  'wideAngleImage': 'https://fastui.cltpstatic.com/image/upload/hotels/places/hotels/cms/2404/2404970/images/760bfd0d_z_w.jpg',\n",
       "  'thumbNailImage': 'https://fastui.cltpstatic.com/image/upload/hotels/places/hotels/cms/2404/2404970/images/760bfd0d_z_tn.jpg',\n",
       "  'imageAlt': 'Entrance',\n",
       "  'imageCategoryName': 'Hotel Exterior',\n",
       "  'imageSubCategoryName': 'Entrance',\n",
       "  'roomTypeId': None,\n",
       "  '_id': {'$oid': '653120caf0d1ae2fe023a17d'}},\n",
       " {'originalImage': 'https://fastui.cltpstatic.com/image/upload/hotels/places/hotels/cms/2404/2404970/images/48ec0640_z.jpg',\n",
       "  'wideAngleImage': 'https://fastui.cltpstatic.com/image/upload/hotels/places/hotels/cms/2404/2404970/images/48ec0640_z_w.jpg',\n",
       "  'thumbNailImage': 'https://fastui.cltpstatic.com/image/upload/hotels/places/hotels/cms/2404/2404970/images/48ec0640_z_tn.jpg',\n",
       "  'imageAlt': 'Beach',\n",
       "  'imageCategoryName': 'Neighbourhood',\n",
       "  'imageSubCategoryName': 'Beach',\n",
       "  'roomTypeId': None,\n",
       "  '_id': {'$oid': '653120caf0d1ae2fe023a17e'}},\n",
       " {'originalImage': 'https://fastui.cltpstatic.com/image/upload/hotels/places/hotels/cms/2404/2404970/images/5f5fd92d_z.jpg',\n",
       "  'wideAngleImage': 'https://fastui.cltpstatic.com/image/upload/hotels/places/hotels/cms/2404/2404970/images/5f5fd92d_z_w.jpg',\n",
       "  'thumbNailImage': 'https://fastui.cltpstatic.com/image/upload/hotels/places/hotels/cms/2404/2404970/images/5f5fd92d_z_tn.jpg',\n",
       "  'imageAlt': 'Terrace',\n",
       "  'imageCategoryName': 'Public Areas',\n",
       "  'imageSubCategoryName': 'Terrace',\n",
       "  'roomTypeId': None,\n",
       "  '_id': {'$oid': '653120caf0d1ae2fe023a17f'}},\n",
       " {'originalImage': 'https://fastui.cltpstatic.com/image/upload/hotels/places/hotels/cms/2404/2404970/images/16821453_z.jpg',\n",
       "  'wideAngleImage': 'https://fastui.cltpstatic.com/image/upload/hotels/places/hotels/cms/2404/2404970/images/16821453_z_w.jpg',\n",
       "  'thumbNailImage': 'https://fastui.cltpstatic.com/image/upload/hotels/places/hotels/cms/2404/2404970/images/16821453_z_tn.jpg',\n",
       "  'imageAlt': 'View from Property',\n",
       "  'imageCategoryName': 'Hotel View',\n",
       "  'imageSubCategoryName': 'View from Property',\n",
       "  'roomTypeId': None,\n",
       "  '_id': {'$oid': '653120caf0d1ae2fe023a180'}},\n",
       " {'originalImage': 'https://fastui.cltpstatic.com/image/upload/hotels/places/hotels/cms/2404/2404970/images/392d552a_z.jpg',\n",
       "  'wideAngleImage': 'https://fastui.cltpstatic.com/image/upload/hotels/places/hotels/cms/2404/2404970/images/392d552a_z_w.jpg',\n",
       "  'thumbNailImage': 'https://fastui.cltpstatic.com/image/upload/hotels/places/hotels/cms/2404/2404970/images/392d552a_z_tn.jpg',\n",
       "  'imageAlt': 'View from Property',\n",
       "  'imageCategoryName': 'Hotel View',\n",
       "  'imageSubCategoryName': 'View from Property',\n",
       "  'roomTypeId': None,\n",
       "  '_id': {'$oid': '653120caf0d1ae2fe023a181'}},\n",
       " {'originalImage': 'https://fastui.cltpstatic.com/image/upload/hotels/places/hotels/cms/2404/2404970/images/a6574c88_z.jpg',\n",
       "  'wideAngleImage': 'https://fastui.cltpstatic.com/image/upload/hotels/places/hotels/cms/2404/2404970/images/a6574c88_z_w.jpg',\n",
       "  'thumbNailImage': 'https://fastui.cltpstatic.com/image/upload/hotels/places/hotels/cms/2404/2404970/images/a6574c88_z_tn.jpg',\n",
       "  'imageAlt': 'Garden View',\n",
       "  'imageCategoryName': 'Others',\n",
       "  'imageSubCategoryName': 'Garden View',\n",
       "  'roomTypeId': None,\n",
       "  '_id': {'$oid': '653120caf0d1ae2fe023a182'}},\n",
       " {'originalImage': 'https://fastui.cltpstatic.com/image/upload/hotels/places/hotels/cms/2404/2404970/images/26b9fe07_z.jpg',\n",
       "  'wideAngleImage': 'https://fastui.cltpstatic.com/image/upload/hotels/places/hotels/cms/2404/2404970/images/26b9fe07_z_w.jpg',\n",
       "  'thumbNailImage': 'https://fastui.cltpstatic.com/image/upload/hotels/places/hotels/cms/2404/2404970/images/26b9fe07_z_tn.jpg',\n",
       "  'imageAlt': 'Cleanliness standards',\n",
       "  'imageCategoryName': 'Others',\n",
       "  'imageSubCategoryName': 'Cleanliness standards',\n",
       "  'roomTypeId': None,\n",
       "  '_id': {'$oid': '653120caf0d1ae2fe023a183'}},\n",
       " {'originalImage': 'https://fastui.cltpstatic.com/image/upload/hotels/places/hotels/cms/2404/2404970/images/190e15ee_z.jpg',\n",
       "  'wideAngleImage': 'https://fastui.cltpstatic.com/image/upload/hotels/places/hotels/cms/2404/2404970/images/190e15ee_z_w.jpg',\n",
       "  'thumbNailImage': 'https://fastui.cltpstatic.com/image/upload/hotels/places/hotels/cms/2404/2404970/images/190e15ee_z_tn.jpg',\n",
       "  'imageAlt': 'Point of interest',\n",
       "  'imageCategoryName': 'Others',\n",
       "  'imageSubCategoryName': 'Point of interest',\n",
       "  'roomTypeId': None,\n",
       "  '_id': {'$oid': '653120caf0d1ae2fe023a184'}},\n",
       " {'originalImage': 'https://fastui.cltpstatic.com/image/upload/hotels/places/hotels/cms/2404/2404970/images/e6c57aea_z.jpg',\n",
       "  'wideAngleImage': 'https://fastui.cltpstatic.com/image/upload/hotels/places/hotels/cms/2404/2404970/images/e6c57aea_z_w.jpg',\n",
       "  'thumbNailImage': 'https://fastui.cltpstatic.com/image/upload/hotels/places/hotels/cms/2404/2404970/images/e6c57aea_z_tn.jpg',\n",
       "  'imageAlt': 'Point of interest',\n",
       "  'imageCategoryName': 'Others',\n",
       "  'imageSubCategoryName': 'Point of interest',\n",
       "  'roomTypeId': None,\n",
       "  '_id': {'$oid': '653120caf0d1ae2fe023a185'}},\n",
       " {'originalImage': 'https://fastui.cltpstatic.com/image/upload/hotels/places/hotels/cms/2404/2404970/images/4a98a073_z.jpg',\n",
       "  'wideAngleImage': 'https://fastui.cltpstatic.com/image/upload/hotels/places/hotels/cms/2404/2404970/images/4a98a073_z_w.jpg',\n",
       "  'thumbNailImage': 'https://fastui.cltpstatic.com/image/upload/hotels/places/hotels/cms/2404/2404970/images/4a98a073_z_tn.jpg',\n",
       "  'imageAlt': 'Room',\n",
       "  'imageCategoryName': 'Featured',\n",
       "  'imageSubCategoryName': 'Featured',\n",
       "  'roomTypeId': None,\n",
       "  '_id': {'$oid': '653120caf0d1ae2fe023a186'}},\n",
       " {'originalImage': 'https://fastui.cltpstatic.com/image/upload/hotels/places/hotels/cms/2404/2404970/images/171645d3_z.jpg',\n",
       "  'wideAngleImage': 'https://fastui.cltpstatic.com/image/upload/hotels/places/hotels/cms/2404/2404970/images/171645d3_z_w.jpg',\n",
       "  'thumbNailImage': 'https://fastui.cltpstatic.com/image/upload/hotels/places/hotels/cms/2404/2404970/images/171645d3_z_tn.jpg',\n",
       "  'imageAlt': 'Room',\n",
       "  'imageCategoryName': 'Deluxe Villa King Bed',\n",
       "  'imageSubCategoryName': 'Room',\n",
       "  'roomTypeId': None,\n",
       "  '_id': {'$oid': '653120caf0d1ae2fe023a187'}},\n",
       " {'originalImage': 'https://fastui.cltpstatic.com/image/upload/hotels/places/hotels/cms/2404/2404970/images/e0edbd10_z.jpg',\n",
       "  'wideAngleImage': 'https://fastui.cltpstatic.com/image/upload/hotels/places/hotels/cms/2404/2404970/images/e0edbd10_z_w.jpg',\n",
       "  'thumbNailImage': 'https://fastui.cltpstatic.com/image/upload/hotels/places/hotels/cms/2404/2404970/images/e0edbd10_z_tn.jpg',\n",
       "  'imageAlt': 'Bathroom',\n",
       "  'imageCategoryName': 'Deluxe Villa King Bed',\n",
       "  'imageSubCategoryName': 'Bathroom',\n",
       "  'roomTypeId': None,\n",
       "  '_id': {'$oid': '653120caf0d1ae2fe023a188'}},\n",
       " {'originalImage': 'https://fastui.cltpstatic.com/image/upload/hotels/places/hotels/cms/2404/2404970/images/28a9e2be_z.jpg',\n",
       "  'wideAngleImage': 'https://fastui.cltpstatic.com/image/upload/hotels/places/hotels/cms/2404/2404970/images/28a9e2be_z_w.jpg',\n",
       "  'thumbNailImage': 'https://fastui.cltpstatic.com/image/upload/hotels/places/hotels/cms/2404/2404970/images/28a9e2be_z_tn.jpg',\n",
       "  'imageAlt': 'Bathroom',\n",
       "  'imageCategoryName': 'Deluxe Villa King Bed',\n",
       "  'imageSubCategoryName': 'Bathroom',\n",
       "  'roomTypeId': None,\n",
       "  '_id': {'$oid': '653120caf0d1ae2fe023a189'}},\n",
       " {'originalImage': 'https://fastui.cltpstatic.com/image/upload/hotels/places/hotels/cms/2404/2404970/images/a6574c88_z.jpg',\n",
       "  'wideAngleImage': 'https://fastui.cltpstatic.com/image/upload/hotels/places/hotels/cms/2404/2404970/images/a6574c88_z_w.jpg',\n",
       "  'thumbNailImage': 'https://fastui.cltpstatic.com/image/upload/hotels/places/hotels/cms/2404/2404970/images/a6574c88_z_tn.jpg',\n",
       "  'imageAlt': 'Garden View',\n",
       "  'imageCategoryName': 'Deluxe Villa King Bed',\n",
       "  'imageSubCategoryName': 'Garden View',\n",
       "  'roomTypeId': None,\n",
       "  '_id': {'$oid': '653120caf0d1ae2fe023a18a'}},\n",
       " {'originalImage': 'https://fastui.cltpstatic.com/image/upload/hotels/places/hotels/cms/2404/2404970/images/1cce4582_z.jpg',\n",
       "  'wideAngleImage': 'https://fastui.cltpstatic.com/image/upload/hotels/places/hotels/cms/2404/2404970/images/1cce4582_z_w.jpg',\n",
       "  'thumbNailImage': 'https://fastui.cltpstatic.com/image/upload/hotels/places/hotels/cms/2404/2404970/images/1cce4582_z_tn.jpg',\n",
       "  'imageAlt': 'Room',\n",
       "  'imageCategoryName': 'Featured',\n",
       "  'imageSubCategoryName': 'Featured',\n",
       "  'roomTypeId': None,\n",
       "  '_id': {'$oid': '653120caf0d1ae2fe023a18b'}},\n",
       " {'originalImage': 'https://fastui.cltpstatic.com/image/upload/hotels/places/hotels/cms/2404/2404970/images/1bd69318_z.jpg',\n",
       "  'wideAngleImage': 'https://fastui.cltpstatic.com/image/upload/hotels/places/hotels/cms/2404/2404970/images/1bd69318_z_w.jpg',\n",
       "  'thumbNailImage': 'https://fastui.cltpstatic.com/image/upload/hotels/places/hotels/cms/2404/2404970/images/1bd69318_z_tn.jpg',\n",
       "  'imageAlt': 'Room',\n",
       "  'imageCategoryName': 'Grand Luxury Villa 2 Bedroom',\n",
       "  'imageSubCategoryName': 'Room',\n",
       "  'roomTypeId': None,\n",
       "  '_id': {'$oid': '653120caf0d1ae2fe023a18c'}},\n",
       " {'originalImage': 'https://fastui.cltpstatic.com/image/upload/hotels/places/hotels/cms/2404/2404970/images/25cb5b93_z.jpg',\n",
       "  'wideAngleImage': 'https://fastui.cltpstatic.com/image/upload/hotels/places/hotels/cms/2404/2404970/images/25cb5b93_z_w.jpg',\n",
       "  'thumbNailImage': 'https://fastui.cltpstatic.com/image/upload/hotels/places/hotels/cms/2404/2404970/images/25cb5b93_z_tn.jpg',\n",
       "  'imageAlt': 'Living Area',\n",
       "  'imageCategoryName': 'Grand Luxury Villa 2 Bedroom',\n",
       "  'imageSubCategoryName': 'Living Area',\n",
       "  'roomTypeId': None,\n",
       "  '_id': {'$oid': '653120caf0d1ae2fe023a18d'}},\n",
       " {'originalImage': 'https://fastui.cltpstatic.com/image/upload/hotels/places/hotels/cms/2404/2404970/images/73122ae6_z.jpg',\n",
       "  'wideAngleImage': 'https://fastui.cltpstatic.com/image/upload/hotels/places/hotels/cms/2404/2404970/images/73122ae6_z_w.jpg',\n",
       "  'thumbNailImage': 'https://fastui.cltpstatic.com/image/upload/hotels/places/hotels/cms/2404/2404970/images/73122ae6_z_tn.jpg',\n",
       "  'imageAlt': 'Bathroom',\n",
       "  'imageCategoryName': 'Grand Luxury Villa 2 Bedroom',\n",
       "  'imageSubCategoryName': 'Bathroom',\n",
       "  'roomTypeId': None,\n",
       "  '_id': {'$oid': '653120caf0d1ae2fe023a18e'}},\n",
       " {'originalImage': 'https://fastui.cltpstatic.com/image/upload/hotels/places/hotels/cms/2404/2404970/images/a6574c88_z.jpg',\n",
       "  'wideAngleImage': 'https://fastui.cltpstatic.com/image/upload/hotels/places/hotels/cms/2404/2404970/images/a6574c88_z_w.jpg',\n",
       "  'thumbNailImage': 'https://fastui.cltpstatic.com/image/upload/hotels/places/hotels/cms/2404/2404970/images/a6574c88_z_tn.jpg',\n",
       "  'imageAlt': 'Garden View',\n",
       "  'imageCategoryName': 'Grand Luxury Villa 2 Bedroom',\n",
       "  'imageSubCategoryName': 'Garden View',\n",
       "  'roomTypeId': None,\n",
       "  '_id': {'$oid': '653120caf0d1ae2fe023a18f'}},\n",
       " {'originalImage': 'https://fastui.cltpstatic.com/image/upload/hotels/places/hotels/cms/2404/2404970/images/8de27d04_z.jpg',\n",
       "  'wideAngleImage': 'https://fastui.cltpstatic.com/image/upload/hotels/places/hotels/cms/2404/2404970/images/8de27d04_z_w.jpg',\n",
       "  'thumbNailImage': 'https://fastui.cltpstatic.com/image/upload/hotels/places/hotels/cms/2404/2404970/images/8de27d04_z_tn.jpg',\n",
       "  'imageAlt': 'Room',\n",
       "  'imageCategoryName': 'Featured',\n",
       "  'imageSubCategoryName': 'Featured',\n",
       "  'roomTypeId': None,\n",
       "  '_id': {'$oid': '653120caf0d1ae2fe023a190'}},\n",
       " {'originalImage': 'https://fastui.cltpstatic.com/image/upload/hotels/places/hotels/cms/2404/2404970/images/431ed689_z.jpg',\n",
       "  'wideAngleImage': 'https://fastui.cltpstatic.com/image/upload/hotels/places/hotels/cms/2404/2404970/images/431ed689_z_w.jpg',\n",
       "  'thumbNailImage': 'https://fastui.cltpstatic.com/image/upload/hotels/places/hotels/cms/2404/2404970/images/431ed689_z_tn.jpg',\n",
       "  'imageAlt': 'Living Area',\n",
       "  'imageCategoryName': 'TATA Suite',\n",
       "  'imageSubCategoryName': 'Living Area',\n",
       "  'roomTypeId': None,\n",
       "  '_id': {'$oid': '653120caf0d1ae2fe023a191'}},\n",
       " {'originalImage': 'https://fastui.cltpstatic.com/image/upload/hotels/places/hotels/cms/2404/2404970/images/368bd4ab_z.jpg',\n",
       "  'wideAngleImage': 'https://fastui.cltpstatic.com/image/upload/hotels/places/hotels/cms/2404/2404970/images/368bd4ab_z_w.jpg',\n",
       "  'thumbNailImage': 'https://fastui.cltpstatic.com/image/upload/hotels/places/hotels/cms/2404/2404970/images/368bd4ab_z_tn.jpg',\n",
       "  'imageAlt': 'Private Pool',\n",
       "  'imageCategoryName': 'TATA Suite',\n",
       "  'imageSubCategoryName': 'Private Pool',\n",
       "  'roomTypeId': None,\n",
       "  '_id': {'$oid': '653120caf0d1ae2fe023a192'}},\n",
       " {'originalImage': 'https://fastui.cltpstatic.com/image/upload/hotels/places/hotels/cms/2404/2404970/images/73122ae6_z.jpg',\n",
       "  'wideAngleImage': 'https://fastui.cltpstatic.com/image/upload/hotels/places/hotels/cms/2404/2404970/images/73122ae6_z_w.jpg',\n",
       "  'thumbNailImage': 'https://fastui.cltpstatic.com/image/upload/hotels/places/hotels/cms/2404/2404970/images/73122ae6_z_tn.jpg',\n",
       "  'imageAlt': 'Bathroom',\n",
       "  'imageCategoryName': 'TATA Suite',\n",
       "  'imageSubCategoryName': 'Bathroom',\n",
       "  'roomTypeId': None,\n",
       "  '_id': {'$oid': '653120caf0d1ae2fe023a193'}},\n",
       " {'originalImage': 'https://fastui.cltpstatic.com/image/upload/hotels/places/hotels/cms/2404/2404970/images/a6574c88_z.jpg',\n",
       "  'wideAngleImage': 'https://fastui.cltpstatic.com/image/upload/hotels/places/hotels/cms/2404/2404970/images/a6574c88_z_w.jpg',\n",
       "  'thumbNailImage': 'https://fastui.cltpstatic.com/image/upload/hotels/places/hotels/cms/2404/2404970/images/a6574c88_z_tn.jpg',\n",
       "  'imageAlt': 'Garden View',\n",
       "  'imageCategoryName': 'TATA Suite',\n",
       "  'imageSubCategoryName': 'Garden View',\n",
       "  'roomTypeId': None,\n",
       "  '_id': {'$oid': '653120caf0d1ae2fe023a194'}},\n",
       " {'originalImage': 'https://fastui.cltpstatic.com/image/upload/hotels/places/hotels/cms/2404/2404970/images/76527e96_z.jpg',\n",
       "  'wideAngleImage': 'https://fastui.cltpstatic.com/image/upload/hotels/places/hotels/cms/2404/2404970/images/76527e96_z_w.jpg',\n",
       "  'thumbNailImage': 'https://fastui.cltpstatic.com/image/upload/hotels/places/hotels/cms/2404/2404970/images/76527e96_z_tn.jpg',\n",
       "  'imageAlt': 'Room',\n",
       "  'imageCategoryName': 'Featured',\n",
       "  'imageSubCategoryName': 'Featured',\n",
       "  'roomTypeId': None,\n",
       "  '_id': {'$oid': '653120caf0d1ae2fe023a195'}},\n",
       " {'originalImage': 'https://fastui.cltpstatic.com/image/upload/hotels/places/hotels/cms/2404/2404970/images/171645d3_z.jpg',\n",
       "  'wideAngleImage': 'https://fastui.cltpstatic.com/image/upload/hotels/places/hotels/cms/2404/2404970/images/171645d3_z_w.jpg',\n",
       "  'thumbNailImage': 'https://fastui.cltpstatic.com/image/upload/hotels/places/hotels/cms/2404/2404970/images/171645d3_z_tn.jpg',\n",
       "  'imageAlt': 'Room',\n",
       "  'imageCategoryName': 'Luxury Villa',\n",
       "  'imageSubCategoryName': 'Room',\n",
       "  'roomTypeId': None,\n",
       "  '_id': {'$oid': '653120caf0d1ae2fe023a196'}},\n",
       " {'originalImage': 'https://fastui.cltpstatic.com/image/upload/hotels/places/hotels/cms/2404/2404970/images/950c72a5_z.jpg',\n",
       "  'wideAngleImage': 'https://fastui.cltpstatic.com/image/upload/hotels/places/hotels/cms/2404/2404970/images/950c72a5_z_w.jpg',\n",
       "  'thumbNailImage': 'https://fastui.cltpstatic.com/image/upload/hotels/places/hotels/cms/2404/2404970/images/950c72a5_z_tn.jpg',\n",
       "  'imageAlt': 'Room',\n",
       "  'imageCategoryName': 'Luxury Villa',\n",
       "  'imageSubCategoryName': 'Room',\n",
       "  'roomTypeId': None,\n",
       "  '_id': {'$oid': '653120caf0d1ae2fe023a197'}},\n",
       " {'originalImage': 'https://fastui.cltpstatic.com/image/upload/hotels/places/hotels/cms/2404/2404970/images/d31035d8_z.jpg',\n",
       "  'wideAngleImage': 'https://fastui.cltpstatic.com/image/upload/hotels/places/hotels/cms/2404/2404970/images/d31035d8_z_w.jpg',\n",
       "  'thumbNailImage': 'https://fastui.cltpstatic.com/image/upload/hotels/places/hotels/cms/2404/2404970/images/d31035d8_z_tn.jpg',\n",
       "  'imageAlt': 'Room',\n",
       "  'imageCategoryName': 'Luxury Villa',\n",
       "  'imageSubCategoryName': 'Room',\n",
       "  'roomTypeId': None,\n",
       "  '_id': {'$oid': '653120caf0d1ae2fe023a198'}},\n",
       " {'originalImage': 'https://fastui.cltpstatic.com/image/upload/hotels/places/hotels/cms/2404/2404970/images/e0edbd10_z.jpg',\n",
       "  'wideAngleImage': 'https://fastui.cltpstatic.com/image/upload/hotels/places/hotels/cms/2404/2404970/images/e0edbd10_z_w.jpg',\n",
       "  'thumbNailImage': 'https://fastui.cltpstatic.com/image/upload/hotels/places/hotels/cms/2404/2404970/images/e0edbd10_z_tn.jpg',\n",
       "  'imageAlt': 'Bathroom',\n",
       "  'imageCategoryName': 'Luxury Villa',\n",
       "  'imageSubCategoryName': 'Bathroom',\n",
       "  'roomTypeId': None,\n",
       "  '_id': {'$oid': '653120caf0d1ae2fe023a199'}},\n",
       " {'originalImage': 'https://fastui.cltpstatic.com/image/upload/hotels/places/hotels/cms/2404/2404970/images/73122ae6_z.jpg',\n",
       "  'wideAngleImage': 'https://fastui.cltpstatic.com/image/upload/hotels/places/hotels/cms/2404/2404970/images/73122ae6_z_w.jpg',\n",
       "  'thumbNailImage': 'https://fastui.cltpstatic.com/image/upload/hotels/places/hotels/cms/2404/2404970/images/73122ae6_z_tn.jpg',\n",
       "  'imageAlt': 'Bathroom',\n",
       "  'imageCategoryName': 'Luxury Villa',\n",
       "  'imageSubCategoryName': 'Bathroom',\n",
       "  'roomTypeId': None,\n",
       "  '_id': {'$oid': '653120caf0d1ae2fe023a19a'}},\n",
       " {'originalImage': 'https://fastui.cltpstatic.com/image/upload/hotels/places/hotels/cms/2404/2404970/images/a6574c88_z.jpg',\n",
       "  'wideAngleImage': 'https://fastui.cltpstatic.com/image/upload/hotels/places/hotels/cms/2404/2404970/images/a6574c88_z_w.jpg',\n",
       "  'thumbNailImage': 'https://fastui.cltpstatic.com/image/upload/hotels/places/hotels/cms/2404/2404970/images/a6574c88_z_tn.jpg',\n",
       "  'imageAlt': 'Garden View',\n",
       "  'imageCategoryName': 'Luxury Villa',\n",
       "  'imageSubCategoryName': 'Garden View',\n",
       "  'roomTypeId': None,\n",
       "  '_id': {'$oid': '653120caf0d1ae2fe023a19b'}}]"
      ]
     },
     "execution_count": 8,
     "metadata": {},
     "output_type": "execute_result"
    }
   ],
   "source": [
    "df['images'][2]"
   ]
  },
  {
   "cell_type": "code",
   "execution_count": 12,
   "id": "5013085d",
   "metadata": {},
   "outputs": [
    {
     "data": {
      "text/html": [
       "<div>\n",
       "<style scoped>\n",
       "    .dataframe tbody tr th:only-of-type {\n",
       "        vertical-align: middle;\n",
       "    }\n",
       "\n",
       "    .dataframe tbody tr th {\n",
       "        vertical-align: top;\n",
       "    }\n",
       "\n",
       "    .dataframe thead th {\n",
       "        text-align: right;\n",
       "    }\n",
       "</style>\n",
       "<table border=\"1\" class=\"dataframe\">\n",
       "  <thead>\n",
       "    <tr style=\"text-align: right;\">\n",
       "      <th></th>\n",
       "      <th>hotelId</th>\n",
       "      <th>amenities</th>\n",
       "      <th>featuredImage</th>\n",
       "      <th>hotelName</th>\n",
       "      <th>images</th>\n",
       "    </tr>\n",
       "  </thead>\n",
       "  <tbody>\n",
       "    <tr>\n",
       "      <th>0</th>\n",
       "      <td>3938571</td>\n",
       "      <td>[{'amenityId': None, 'amenityNameEn': '24-hour...</td>\n",
       "      <td>[]</td>\n",
       "      <td>Havelock Island Beach Resort</td>\n",
       "      <td>[]</td>\n",
       "    </tr>\n",
       "    <tr>\n",
       "      <th>1</th>\n",
       "      <td>713805</td>\n",
       "      <td>[{'amenityId': None, 'amenityNameEn': '24-hour...</td>\n",
       "      <td>[{'originalImage': 'https://fastui.cltpstatic....</td>\n",
       "      <td>TSG Blue Resort &amp; Spa</td>\n",
       "      <td>[{'originalImage': 'https://fastui.cltpstatic....</td>\n",
       "    </tr>\n",
       "  </tbody>\n",
       "</table>\n",
       "</div>"
      ],
      "text/plain": [
       "   hotelId                                          amenities  \\\n",
       "0  3938571  [{'amenityId': None, 'amenityNameEn': '24-hour...   \n",
       "1   713805  [{'amenityId': None, 'amenityNameEn': '24-hour...   \n",
       "\n",
       "                                       featuredImage  \\\n",
       "0                                                 []   \n",
       "1  [{'originalImage': 'https://fastui.cltpstatic....   \n",
       "\n",
       "                      hotelName  \\\n",
       "0  Havelock Island Beach Resort   \n",
       "1         TSG Blue Resort & Spa   \n",
       "\n",
       "                                              images  \n",
       "0                                                 []  \n",
       "1  [{'originalImage': 'https://fastui.cltpstatic....  "
      ]
     },
     "execution_count": 12,
     "metadata": {},
     "output_type": "execute_result"
    }
   ],
   "source": [
    "df.head(2)"
   ]
  },
  {
   "cell_type": "code",
   "execution_count": 17,
   "id": "902b1021",
   "metadata": {},
   "outputs": [
    {
     "data": {
      "text/plain": [
       "[{'originalImage': 'https://fastui.cltpstatic.com/image/upload/hotels/places/hotels/cms/2404/2404970/images/b4e12b2b_z.jpg',\n",
       "  'wideAngleImage': 'https://fastui.cltpstatic.com/image/upload/hotels/places/hotels/cms/2404/2404970/images/b4e12b2b_z_w.jpg',\n",
       "  'thumbNailImage': 'https://fastui.cltpstatic.com/image/upload/hotels/places/hotels/cms/2404/2404970/images/b4e12b2b_z_tn.jpg',\n",
       "  'imageAlt': 'Primary image',\n",
       "  'imageCategoryName': 'Others',\n",
       "  'imageSubCategoryName': 'Primary image',\n",
       "  'roomTypeId': None,\n",
       "  '_id': {'$oid': '653120caf0d1ae2fe023a151'}}]"
      ]
     },
     "execution_count": 17,
     "metadata": {},
     "output_type": "execute_result"
    }
   ],
   "source": [
    "df['featuredImage'][2]"
   ]
  },
  {
   "cell_type": "code",
   "execution_count": 34,
   "id": "b2c85faf",
   "metadata": {},
   "outputs": [
    {
     "data": {
      "text/plain": [
       "0"
      ]
     },
     "execution_count": 34,
     "metadata": {},
     "output_type": "execute_result"
    }
   ],
   "source": [
    "len(df['featuredImage'][0])"
   ]
  },
  {
   "cell_type": "code",
   "execution_count": 32,
   "id": "5fe28422",
   "metadata": {},
   "outputs": [
    {
     "data": {
      "text/plain": [
       "'https://fastui.cltpstatic.com/image/upload/hotels/places/hotels/cms/2404/2404970/images/b4e12b2b_z.jpg'"
      ]
     },
     "execution_count": 32,
     "metadata": {},
     "output_type": "execute_result"
    }
   ],
   "source": [
    "df['featuredImage'][2][0]['originalImage']"
   ]
  },
  {
   "cell_type": "markdown",
   "id": "30c68e6a",
   "metadata": {},
   "source": [
    "## Creating a dataframe of Featured Images from main dataframe"
   ]
  },
  {
   "cell_type": "code",
   "execution_count": 20,
   "id": "c8f6817d",
   "metadata": {},
   "outputs": [
    {
     "data": {
      "text/plain": [
       "(9131, 2)"
      ]
     },
     "execution_count": 20,
     "metadata": {},
     "output_type": "execute_result"
    }
   ],
   "source": [
    "df_f = df[['hotelId', 'hotelName']].copy()\n",
    "df_f.shape"
   ]
  },
  {
   "cell_type": "code",
   "execution_count": 21,
   "id": "85015199",
   "metadata": {},
   "outputs": [
    {
     "data": {
      "text/html": [
       "<div>\n",
       "<style scoped>\n",
       "    .dataframe tbody tr th:only-of-type {\n",
       "        vertical-align: middle;\n",
       "    }\n",
       "\n",
       "    .dataframe tbody tr th {\n",
       "        vertical-align: top;\n",
       "    }\n",
       "\n",
       "    .dataframe thead th {\n",
       "        text-align: right;\n",
       "    }\n",
       "</style>\n",
       "<table border=\"1\" class=\"dataframe\">\n",
       "  <thead>\n",
       "    <tr style=\"text-align: right;\">\n",
       "      <th></th>\n",
       "      <th>hotelId</th>\n",
       "      <th>hotelName</th>\n",
       "    </tr>\n",
       "  </thead>\n",
       "  <tbody>\n",
       "    <tr>\n",
       "      <th>9130</th>\n",
       "      <td>4005817</td>\n",
       "      <td>UB Grand Hotel</td>\n",
       "    </tr>\n",
       "  </tbody>\n",
       "</table>\n",
       "</div>"
      ],
      "text/plain": [
       "      hotelId       hotelName\n",
       "9130  4005817  UB Grand Hotel"
      ]
     },
     "execution_count": 21,
     "metadata": {},
     "output_type": "execute_result"
    }
   ],
   "source": [
    "df_f.tail(1)"
   ]
  },
  {
   "cell_type": "code",
   "execution_count": 25,
   "id": "58c40d59",
   "metadata": {},
   "outputs": [],
   "source": [
    "df_f['originalImage_Featured']=''\n",
    "df_f['imageAlt_Featured']=''\n",
    "df_f['imageCategoryName_Featured']=''\n",
    "df_f['imageSubCategoryName_Featured']=''\n",
    "df_f['roomTypeId_Featured']=''"
   ]
  },
  {
   "cell_type": "code",
   "execution_count": 37,
   "id": "73f14d34",
   "metadata": {},
   "outputs": [],
   "source": [
    "df_f['originalImage_Featured']= df['featuredImage'].map(lambda x : x[0]['originalImage'] if len(x)>0 else '')\n",
    "df_f['imageAlt_Featured']= df['featuredImage'].map(lambda x : x[0]['imageAlt'] if len(x)>0 else '')\n",
    "df_f['imageCategoryName_Featured']= df['featuredImage'].map(lambda x : x[0]['imageCategoryName'] if len(x)>0 else '')\n",
    "df_f['imageSubCategoryName_Featured']= df['featuredImage'].map(lambda x : x[0]['imageSubCategoryName'] if len(x)>0 else '')\n",
    "df_f['roomTypeId_Featured']= df['featuredImage'].map(lambda x : x[0]['roomTypeId'] if len(x)>0 else '')"
   ]
  },
  {
   "cell_type": "code",
   "execution_count": 39,
   "id": "61bedcc0",
   "metadata": {},
   "outputs": [
    {
     "data": {
      "text/html": [
       "<div>\n",
       "<style scoped>\n",
       "    .dataframe tbody tr th:only-of-type {\n",
       "        vertical-align: middle;\n",
       "    }\n",
       "\n",
       "    .dataframe tbody tr th {\n",
       "        vertical-align: top;\n",
       "    }\n",
       "\n",
       "    .dataframe thead th {\n",
       "        text-align: right;\n",
       "    }\n",
       "</style>\n",
       "<table border=\"1\" class=\"dataframe\">\n",
       "  <thead>\n",
       "    <tr style=\"text-align: right;\">\n",
       "      <th></th>\n",
       "      <th>hotelId</th>\n",
       "      <th>hotelName</th>\n",
       "      <th>originalImage_Featured</th>\n",
       "      <th>imageAlt_Featured</th>\n",
       "      <th>imageCategoryName_Featured</th>\n",
       "      <th>imageSubCategoryName_Featured</th>\n",
       "      <th>roomTypeId_Featured</th>\n",
       "    </tr>\n",
       "  </thead>\n",
       "  <tbody>\n",
       "    <tr>\n",
       "      <th>0</th>\n",
       "      <td>3938571</td>\n",
       "      <td>Havelock Island Beach Resort</td>\n",
       "      <td></td>\n",
       "      <td></td>\n",
       "      <td></td>\n",
       "      <td></td>\n",
       "      <td></td>\n",
       "    </tr>\n",
       "    <tr>\n",
       "      <th>1</th>\n",
       "      <td>713805</td>\n",
       "      <td>TSG Blue Resort &amp; Spa</td>\n",
       "      <td>https://fastui.cltpstatic.com/image/upload/hot...</td>\n",
       "      <td>None</td>\n",
       "      <td>Others</td>\n",
       "      <td>Others</td>\n",
       "      <td>None</td>\n",
       "    </tr>\n",
       "    <tr>\n",
       "      <th>2</th>\n",
       "      <td>2404970</td>\n",
       "      <td>Taj Exotica Resort &amp; Spa, Andamans</td>\n",
       "      <td>https://fastui.cltpstatic.com/image/upload/hot...</td>\n",
       "      <td>Primary image</td>\n",
       "      <td>Others</td>\n",
       "      <td>Primary image</td>\n",
       "      <td>None</td>\n",
       "    </tr>\n",
       "  </tbody>\n",
       "</table>\n",
       "</div>"
      ],
      "text/plain": [
       "   hotelId                           hotelName  \\\n",
       "0  3938571        Havelock Island Beach Resort   \n",
       "1   713805               TSG Blue Resort & Spa   \n",
       "2  2404970  Taj Exotica Resort & Spa, Andamans   \n",
       "\n",
       "                              originalImage_Featured imageAlt_Featured  \\\n",
       "0                                                                        \n",
       "1  https://fastui.cltpstatic.com/image/upload/hot...              None   \n",
       "2  https://fastui.cltpstatic.com/image/upload/hot...     Primary image   \n",
       "\n",
       "  imageCategoryName_Featured imageSubCategoryName_Featured roomTypeId_Featured  \n",
       "0                                                                               \n",
       "1                     Others                        Others                None  \n",
       "2                     Others                 Primary image                None  "
      ]
     },
     "execution_count": 39,
     "metadata": {},
     "output_type": "execute_result"
    }
   ],
   "source": [
    "df_f.head(3)"
   ]
  },
  {
   "cell_type": "markdown",
   "id": "2f43a1f6",
   "metadata": {},
   "source": [
    "## Featured Image Classification based on clip model \n",
    "\n",
    "- Creating a function which inputs Featured Image URL and outputs its class based on our definition"
   ]
  },
  {
   "cell_type": "code",
   "execution_count": 65,
   "id": "49933cb9",
   "metadata": {},
   "outputs": [],
   "source": [
    "## Define as global values\n",
    "\n",
    "import torch\n",
    "from PIL import Image\n",
    "from transformers import AutoProcessor, CLIPModel, AutoModel,AutoImageProcessor\n",
    "import torch.nn as nn\n",
    "import requests\n",
    "from io import BytesIO\n",
    "import urllib.parse\n",
    "\n",
    "device = torch.device('cuda' if torch.cuda.is_available() else \"cpu\")\n",
    "processor = AutoProcessor.from_pretrained(\"openai/clip-vit-base-patch32\")\n",
    "model = CLIPModel.from_pretrained(\"openai/clip-vit-base-patch32\").to(device)"
   ]
  },
  {
   "cell_type": "code",
   "execution_count": 45,
   "id": "0d5ca1a8",
   "metadata": {},
   "outputs": [],
   "source": [
    "## Define as global \n",
    "\n",
    "class_names = [\"Bedroom\", \"Swimming Pool\",\"Dining Room\", \"Restroom\", \"Hotel View\",\"Gym\",\"Hotel Facade\", \"Other\", \"Reception Area\",\n",
    "              'Bar', 'Garden']\n",
    "\n",
    "# Compute text features for class names\n",
    "text_inputs = processor(text=class_names, return_tensors=\"pt\", padding=True).to(device)\n",
    "with torch.no_grad():\n",
    "    text_features = model.get_text_features(**text_inputs)"
   ]
  },
  {
   "cell_type": "code",
   "execution_count": 46,
   "id": "ab7ad20e",
   "metadata": {},
   "outputs": [],
   "source": [
    "def predict_ThumbnailImageClass(img_url):\n",
    "    '''\n",
    "    Image classification function.\n",
    "    Input : Image url\n",
    "    Output : Image class\n",
    "    '''\n",
    "    imageResponse = requests.get(img_url)  #Image.open(img_url)\n",
    "    if imageResponse.status_code == 200:  # fetching jpg img\n",
    "        image1 = Image.open(BytesIO(imageResponse.content))\n",
    "        with torch.no_grad():\n",
    "            inputs1 = processor(images=image1, return_tensors=\"pt\").to(device)\n",
    "            image_features1 = model.get_image_features(**inputs1)\n",
    "        cos_sim = nn.CosineSimilarity(dim=-1)\n",
    "        similarity_scores = cos_sim(image_features1, text_features)\n",
    "    # Get the index of the class with the highest similarity score\n",
    "        predicted_class_index = torch.argmax(similarity_scores).item()\n",
    "        return class_names[predicted_class_index] # get the classname  of image"
   ]
  },
  {
   "cell_type": "code",
   "execution_count": 47,
   "id": "a158822f",
   "metadata": {},
   "outputs": [],
   "source": [
    "# Adding column for predicted thumbnail image category\n",
    "\n",
    "df_f['ThumbailImage_PredictedCategory'] = ''"
   ]
  },
  {
   "cell_type": "code",
   "execution_count": 86,
   "id": "4c54aa46",
   "metadata": {},
   "outputs": [
    {
     "name": "stderr",
     "output_type": "stream",
     "text": [
      "C:\\Users\\Radha.Rathore\\AppData\\Roaming\\Python\\Python38\\site-packages\\PIL\\Image.py:970: UserWarning: Palette images with Transparency expressed in bytes should be converted to RGBA images\n",
      "  warnings.warn(\n"
     ]
    },
    {
     "name": "stdout",
     "output_type": "stream",
     "text": [
      "12690.434158\n"
     ]
    }
   ],
   "source": [
    "start = timeit.default_timer()\n",
    "\n",
    "df_f['ThumbailImage_PredictedCategory'] = df_f['originalImage_Featured'].map(lambda x : predict_ThumbnailImageClass(x) if ((x!='') and (x is not None)) else '')\n",
    "\n",
    "end = timeit.default_timer()\n",
    "print(end-start)"
   ]
  },
  {
   "cell_type": "code",
   "execution_count": 93,
   "id": "f34c2ffd",
   "metadata": {},
   "outputs": [
    {
     "name": "stdout",
     "output_type": "stream",
     "text": [
      "3.525 hours to predict class of 9030 images\n"
     ]
    }
   ],
   "source": [
    "## Total time it took to predict class of 9030 images\n",
    "\n",
    "print(f'{12690/3600} hours to predict class of 9030 images')"
   ]
  },
  {
   "cell_type": "code",
   "execution_count": 87,
   "id": "67b3219d",
   "metadata": {},
   "outputs": [
    {
     "data": {
      "text/html": [
       "<div>\n",
       "<style scoped>\n",
       "    .dataframe tbody tr th:only-of-type {\n",
       "        vertical-align: middle;\n",
       "    }\n",
       "\n",
       "    .dataframe tbody tr th {\n",
       "        vertical-align: top;\n",
       "    }\n",
       "\n",
       "    .dataframe thead th {\n",
       "        text-align: right;\n",
       "    }\n",
       "</style>\n",
       "<table border=\"1\" class=\"dataframe\">\n",
       "  <thead>\n",
       "    <tr style=\"text-align: right;\">\n",
       "      <th></th>\n",
       "      <th>hotelId</th>\n",
       "      <th>hotelName</th>\n",
       "      <th>originalImage_Featured</th>\n",
       "      <th>imageAlt_Featured</th>\n",
       "      <th>imageCategoryName_Featured</th>\n",
       "      <th>imageSubCategoryName_Featured</th>\n",
       "      <th>roomTypeId_Featured</th>\n",
       "      <th>ThumbailImage_PredictedCategory</th>\n",
       "    </tr>\n",
       "  </thead>\n",
       "  <tbody>\n",
       "    <tr>\n",
       "      <th>9128</th>\n",
       "      <td>342389</td>\n",
       "      <td>Sea Executive Suites</td>\n",
       "      <td>https://fastui.cltpstatic.com/image/upload/hot...</td>\n",
       "      <td>Balcony</td>\n",
       "      <td>Others</td>\n",
       "      <td>Primary image</td>\n",
       "      <td>None</td>\n",
       "      <td>Bar</td>\n",
       "    </tr>\n",
       "    <tr>\n",
       "      <th>9129</th>\n",
       "      <td>2206632</td>\n",
       "      <td>Abraham Tel Aviv - Hostel</td>\n",
       "      <td>https://fastui.cltpstatic.com/image/upload/hot...</td>\n",
       "      <td>Primary image</td>\n",
       "      <td>Others</td>\n",
       "      <td>Primary image</td>\n",
       "      <td>None</td>\n",
       "      <td>Garden</td>\n",
       "    </tr>\n",
       "    <tr>\n",
       "      <th>9130</th>\n",
       "      <td>4005817</td>\n",
       "      <td>UB Grand Hotel</td>\n",
       "      <td>https://fastui.cltpstatic.com/image/upload/hot...</td>\n",
       "      <td>Primary image</td>\n",
       "      <td>Others</td>\n",
       "      <td>Primary image</td>\n",
       "      <td>None</td>\n",
       "      <td>Reception Area</td>\n",
       "    </tr>\n",
       "  </tbody>\n",
       "</table>\n",
       "</div>"
      ],
      "text/plain": [
       "      hotelId                  hotelName  \\\n",
       "9128   342389       Sea Executive Suites   \n",
       "9129  2206632  Abraham Tel Aviv - Hostel   \n",
       "9130  4005817             UB Grand Hotel   \n",
       "\n",
       "                                 originalImage_Featured imageAlt_Featured  \\\n",
       "9128  https://fastui.cltpstatic.com/image/upload/hot...           Balcony   \n",
       "9129  https://fastui.cltpstatic.com/image/upload/hot...     Primary image   \n",
       "9130  https://fastui.cltpstatic.com/image/upload/hot...     Primary image   \n",
       "\n",
       "     imageCategoryName_Featured imageSubCategoryName_Featured  \\\n",
       "9128                     Others                 Primary image   \n",
       "9129                     Others                 Primary image   \n",
       "9130                     Others                 Primary image   \n",
       "\n",
       "     roomTypeId_Featured ThumbailImage_PredictedCategory  \n",
       "9128                None                             Bar  \n",
       "9129                None                          Garden  \n",
       "9130                None                  Reception Area  "
      ]
     },
     "execution_count": 87,
     "metadata": {},
     "output_type": "execute_result"
    }
   ],
   "source": [
    "df_f.tail(3)"
   ]
  },
  {
   "cell_type": "code",
   "execution_count": 88,
   "id": "cdd332ed",
   "metadata": {},
   "outputs": [],
   "source": [
    "## Saving the predicted Thumbail Class data as pickle\n",
    "df_f.to_pickle('D:\\OLD Laptop Data\\RADHA-DATA and ML - PROJECT WORK\\ML and MLOPS\\Hotel Features_Search_SRP\\Data\\Priyam_FeaturesImages\\OutputFiles\\PredictedClass_ThumbnailImage_Data.pkl')"
   ]
  },
  {
   "cell_type": "code",
   "execution_count": 90,
   "id": "af99733e",
   "metadata": {},
   "outputs": [],
   "source": [
    "## Saving the predicted Thumbail Class data as excel\n",
    "df_f.to_excel('D:\\OLD Laptop Data\\RADHA-DATA and ML - PROJECT WORK\\ML and MLOPS\\Hotel Features_Search_SRP\\Data\\Priyam_FeaturesImages\\OutputFiles\\PredictedClass_ThumbnailImage_Data.xlsx',\n",
    "             index = False)"
   ]
  },
  {
   "cell_type": "code",
   "execution_count": 3,
   "id": "2a9458d2",
   "metadata": {},
   "outputs": [
    {
     "data": {
      "text/plain": [
       "(9131, 8)"
      ]
     },
     "execution_count": 3,
     "metadata": {},
     "output_type": "execute_result"
    }
   ],
   "source": [
    "## Reading pickle\n",
    "# df_f2 = pd.read_pickle(\"D:\\OLD Laptop Data\\RADHA-DATA and ML - PROJECT WORK\\ML and MLOPS\\Hotel Features_Search_SRP\\Data\\Priyam_FeaturesImages\\OutputFiles\\PredictedClass_ThumbnailImage_Data.pkl\")\n",
    "\n",
    "df_f2 = pd.read_json(\"D:\\OLD Laptop Data\\RADHA-DATA and ML - PROJECT WORK\\ML and MLOPS\\Hotel Features_Search_SRP\\Data & Solution\\Priyam_FeaturesImages-Data & Solution\\OutputFiles\\PredictedClass_ThumbnailImage_Data.json\")\n",
    "df_f2.shape"
   ]
  },
  {
   "cell_type": "code",
   "execution_count": 4,
   "id": "7476a4c4",
   "metadata": {},
   "outputs": [
    {
     "data": {
      "text/html": [
       "<div>\n",
       "<style scoped>\n",
       "    .dataframe tbody tr th:only-of-type {\n",
       "        vertical-align: middle;\n",
       "    }\n",
       "\n",
       "    .dataframe tbody tr th {\n",
       "        vertical-align: top;\n",
       "    }\n",
       "\n",
       "    .dataframe thead th {\n",
       "        text-align: right;\n",
       "    }\n",
       "</style>\n",
       "<table border=\"1\" class=\"dataframe\">\n",
       "  <thead>\n",
       "    <tr style=\"text-align: right;\">\n",
       "      <th></th>\n",
       "      <th>hotelId</th>\n",
       "      <th>hotelName</th>\n",
       "      <th>originalImage_Featured</th>\n",
       "      <th>imageAlt_Featured</th>\n",
       "      <th>imageCategoryName_Featured</th>\n",
       "      <th>imageSubCategoryName_Featured</th>\n",
       "      <th>roomTypeId_Featured</th>\n",
       "      <th>ThumbailImage_PredictedCategory</th>\n",
       "    </tr>\n",
       "  </thead>\n",
       "  <tbody>\n",
       "    <tr>\n",
       "      <th>0</th>\n",
       "      <td>3938571</td>\n",
       "      <td>Havelock Island Beach Resort</td>\n",
       "      <td></td>\n",
       "      <td></td>\n",
       "      <td></td>\n",
       "      <td></td>\n",
       "      <td></td>\n",
       "      <td></td>\n",
       "    </tr>\n",
       "    <tr>\n",
       "      <th>1</th>\n",
       "      <td>713805</td>\n",
       "      <td>TSG Blue Resort &amp; Spa</td>\n",
       "      <td>https://fastui.cltpstatic.com/image/upload/hot...</td>\n",
       "      <td>None</td>\n",
       "      <td>Others</td>\n",
       "      <td>Others</td>\n",
       "      <td>None</td>\n",
       "      <td>Dining Room</td>\n",
       "    </tr>\n",
       "  </tbody>\n",
       "</table>\n",
       "</div>"
      ],
      "text/plain": [
       "   hotelId                     hotelName  \\\n",
       "0  3938571  Havelock Island Beach Resort   \n",
       "1   713805         TSG Blue Resort & Spa   \n",
       "\n",
       "                              originalImage_Featured imageAlt_Featured  \\\n",
       "0                                                                        \n",
       "1  https://fastui.cltpstatic.com/image/upload/hot...              None   \n",
       "\n",
       "  imageCategoryName_Featured imageSubCategoryName_Featured  \\\n",
       "0                                                            \n",
       "1                     Others                        Others   \n",
       "\n",
       "  roomTypeId_Featured ThumbailImage_PredictedCategory  \n",
       "0                                                      \n",
       "1                None                     Dining Room  "
      ]
     },
     "execution_count": 4,
     "metadata": {},
     "output_type": "execute_result"
    }
   ],
   "source": [
    "df_f2.head(2)"
   ]
  },
  {
   "cell_type": "markdown",
   "id": "b6659698",
   "metadata": {},
   "source": [
    "## Identify Bad Thumbnail/Featured Images - Restroom, Others, Gym, Reception Area, etc"
   ]
  },
  {
   "cell_type": "code",
   "execution_count": 5,
   "id": "4920e2e9",
   "metadata": {},
   "outputs": [],
   "source": [
    "badThumbnailImages = [\"Restroom\", \"Gym\", \"Other\", \"Reception Area\",'Bar', '', None]"
   ]
  },
  {
   "cell_type": "code",
   "execution_count": 6,
   "id": "27592813",
   "metadata": {},
   "outputs": [],
   "source": [
    "df_f2['IsThumbnailWrong']= ''"
   ]
  },
  {
   "cell_type": "code",
   "execution_count": 7,
   "id": "7a277382",
   "metadata": {},
   "outputs": [],
   "source": [
    "# identifying wrongthumbnail images based on class\n",
    "\n",
    "df_f2['IsThumbnailWrong']= df_f2['ThumbailImage_PredictedCategory'].map(lambda x : 1 if x in (badThumbnailImages) else 0)"
   ]
  },
  {
   "cell_type": "code",
   "execution_count": 8,
   "id": "5e04572d",
   "metadata": {},
   "outputs": [
    {
     "data": {
      "text/html": [
       "<div>\n",
       "<style scoped>\n",
       "    .dataframe tbody tr th:only-of-type {\n",
       "        vertical-align: middle;\n",
       "    }\n",
       "\n",
       "    .dataframe tbody tr th {\n",
       "        vertical-align: top;\n",
       "    }\n",
       "\n",
       "    .dataframe thead th {\n",
       "        text-align: right;\n",
       "    }\n",
       "</style>\n",
       "<table border=\"1\" class=\"dataframe\">\n",
       "  <thead>\n",
       "    <tr style=\"text-align: right;\">\n",
       "      <th></th>\n",
       "      <th>hotelId</th>\n",
       "      <th>hotelName</th>\n",
       "      <th>originalImage_Featured</th>\n",
       "      <th>imageAlt_Featured</th>\n",
       "      <th>imageCategoryName_Featured</th>\n",
       "      <th>imageSubCategoryName_Featured</th>\n",
       "      <th>roomTypeId_Featured</th>\n",
       "      <th>ThumbailImage_PredictedCategory</th>\n",
       "      <th>IsThumbnailWrong</th>\n",
       "    </tr>\n",
       "  </thead>\n",
       "  <tbody>\n",
       "    <tr>\n",
       "      <th>9130</th>\n",
       "      <td>4005817</td>\n",
       "      <td>UB Grand Hotel</td>\n",
       "      <td>https://fastui.cltpstatic.com/image/upload/hot...</td>\n",
       "      <td>Primary image</td>\n",
       "      <td>Others</td>\n",
       "      <td>Primary image</td>\n",
       "      <td>None</td>\n",
       "      <td>Reception Area</td>\n",
       "      <td>1</td>\n",
       "    </tr>\n",
       "  </tbody>\n",
       "</table>\n",
       "</div>"
      ],
      "text/plain": [
       "      hotelId       hotelName  \\\n",
       "9130  4005817  UB Grand Hotel   \n",
       "\n",
       "                                 originalImage_Featured imageAlt_Featured  \\\n",
       "9130  https://fastui.cltpstatic.com/image/upload/hot...     Primary image   \n",
       "\n",
       "     imageCategoryName_Featured imageSubCategoryName_Featured  \\\n",
       "9130                     Others                 Primary image   \n",
       "\n",
       "     roomTypeId_Featured ThumbailImage_PredictedCategory  IsThumbnailWrong  \n",
       "9130                None                  Reception Area                 1  "
      ]
     },
     "execution_count": 8,
     "metadata": {},
     "output_type": "execute_result"
    }
   ],
   "source": [
    "df_f2.tail(1)"
   ]
  },
  {
   "cell_type": "code",
   "execution_count": 9,
   "id": "8b866981",
   "metadata": {},
   "outputs": [
    {
     "data": {
      "text/plain": [
       "(2429, 9)"
      ]
     },
     "execution_count": 9,
     "metadata": {},
     "output_type": "execute_result"
    }
   ],
   "source": [
    "## Total number of bad thumbnail images\n",
    "df_f2[df_f2.IsThumbnailWrong == 1].shape"
   ]
  },
  {
   "cell_type": "code",
   "execution_count": 10,
   "id": "b4dd3e28",
   "metadata": {},
   "outputs": [
    {
     "data": {
      "text/plain": [
       "array(['', 'Restroom', 'Other', 'Bar', 'Reception Area', 'Gym', None],\n",
       "      dtype=object)"
      ]
     },
     "execution_count": 10,
     "metadata": {},
     "output_type": "execute_result"
    }
   ],
   "source": [
    "## Predicted classes of bad thumbnail images\n",
    "df_f2[df_f2.IsThumbnailWrong == 1]['ThumbailImage_PredictedCategory'].unique()"
   ]
  },
  {
   "cell_type": "code",
   "execution_count": 11,
   "id": "51cf1707",
   "metadata": {},
   "outputs": [
    {
     "data": {
      "text/plain": [
       "(2429, [3938571, 3961864, 709823, 1361926, 211542])"
      ]
     },
     "execution_count": 11,
     "metadata": {},
     "output_type": "execute_result"
    }
   ],
   "source": [
    "## Hotel ids list of wrong thumbnail Images\n",
    "\n",
    "wrongThumbnail_HotelIdList = list(df_f2[df_f2.IsThumbnailWrong == 1]['hotelId'].values)\n",
    "len(wrongThumbnail_HotelIdList), wrongThumbnail_HotelIdList[:5]"
   ]
  },
  {
   "cell_type": "code",
   "execution_count": 14,
   "id": "7233f501",
   "metadata": {},
   "outputs": [
    {
     "data": {
      "text/html": [
       "<div>\n",
       "<style scoped>\n",
       "    .dataframe tbody tr th:only-of-type {\n",
       "        vertical-align: middle;\n",
       "    }\n",
       "\n",
       "    .dataframe tbody tr th {\n",
       "        vertical-align: top;\n",
       "    }\n",
       "\n",
       "    .dataframe thead th {\n",
       "        text-align: right;\n",
       "    }\n",
       "</style>\n",
       "<table border=\"1\" class=\"dataframe\">\n",
       "  <thead>\n",
       "    <tr style=\"text-align: right;\">\n",
       "      <th></th>\n",
       "      <th>hotelId</th>\n",
       "      <th>hotelName</th>\n",
       "      <th>originalImage_Featured</th>\n",
       "      <th>ThumbailImage_PredictedCategory</th>\n",
       "      <th>IsThumbnailWrong</th>\n",
       "    </tr>\n",
       "  </thead>\n",
       "  <tbody>\n",
       "    <tr>\n",
       "      <th>0</th>\n",
       "      <td>3938571</td>\n",
       "      <td>Havelock Island Beach Resort</td>\n",
       "      <td></td>\n",
       "      <td></td>\n",
       "      <td>1</td>\n",
       "    </tr>\n",
       "    <tr>\n",
       "      <th>1</th>\n",
       "      <td>713805</td>\n",
       "      <td>TSG Blue Resort &amp; Spa</td>\n",
       "      <td>https://fastui.cltpstatic.com/image/upload/hot...</td>\n",
       "      <td>Dining Room</td>\n",
       "      <td>0</td>\n",
       "    </tr>\n",
       "  </tbody>\n",
       "</table>\n",
       "</div>"
      ],
      "text/plain": [
       "   hotelId                     hotelName  \\\n",
       "0  3938571  Havelock Island Beach Resort   \n",
       "1   713805         TSG Blue Resort & Spa   \n",
       "\n",
       "                              originalImage_Featured  \\\n",
       "0                                                      \n",
       "1  https://fastui.cltpstatic.com/image/upload/hot...   \n",
       "\n",
       "  ThumbailImage_PredictedCategory  IsThumbnailWrong  \n",
       "0                                                 1  \n",
       "1                     Dining Room                 0  "
      ]
     },
     "execution_count": 14,
     "metadata": {},
     "output_type": "execute_result"
    }
   ],
   "source": [
    "## Removing extra columsn from output file\n",
    "df_ClassificationOutput = df_f2.drop(columns=['imageAlt_Featured', 'imageCategoryName_Featured', 'imageSubCategoryName_Featured',\n",
    "                                             'roomTypeId_Featured'])\n",
    "df_ClassificationOutput.head(2)"
   ]
  },
  {
   "cell_type": "code",
   "execution_count": null,
   "id": "3dde2f71",
   "metadata": {},
   "outputs": [],
   "source": [
    "## Saving the output forThumbnail Image Classification along with FLAG column (for Tech Team)\n",
    "df_ClassificationOutput.to_excel('D:\\OLD Laptop Data\\RADHA-DATA and ML - PROJECT WORK\\ML and MLOPS\\Hotel Features_Search_SRP\\Data & Solution\\Priyam_FeaturesImages-Data & Solution\\OutputFiles\\ClassificationOutput_Flag_Tech.xlsx',\n",
    "                                index =False)"
   ]
  },
  {
   "cell_type": "markdown",
   "id": "5aa12d7e",
   "metadata": {},
   "source": [
    "## Create data for all images of hotels for hotel ids with bad thumbnail images"
   ]
  },
  {
   "cell_type": "code",
   "execution_count": 28,
   "id": "08ed3644",
   "metadata": {},
   "outputs": [
    {
     "data": {
      "text/plain": [
       "(2429, 5)"
      ]
     },
     "execution_count": 28,
     "metadata": {},
     "output_type": "execute_result"
    }
   ],
   "source": [
    "df_all = df[df['hotelId'].isin(wrongThumbnail_HotelIdList)].copy().reset_index(drop= True)\n",
    "df_all.shape"
   ]
  },
  {
   "cell_type": "code",
   "execution_count": 119,
   "id": "6aa8a912",
   "metadata": {},
   "outputs": [
    {
     "data": {
      "text/html": [
       "<div>\n",
       "<style scoped>\n",
       "    .dataframe tbody tr th:only-of-type {\n",
       "        vertical-align: middle;\n",
       "    }\n",
       "\n",
       "    .dataframe tbody tr th {\n",
       "        vertical-align: top;\n",
       "    }\n",
       "\n",
       "    .dataframe thead th {\n",
       "        text-align: right;\n",
       "    }\n",
       "</style>\n",
       "<table border=\"1\" class=\"dataframe\">\n",
       "  <thead>\n",
       "    <tr style=\"text-align: right;\">\n",
       "      <th></th>\n",
       "      <th>hotelId</th>\n",
       "      <th>amenities</th>\n",
       "      <th>featuredImage</th>\n",
       "      <th>hotelName</th>\n",
       "      <th>images</th>\n",
       "    </tr>\n",
       "  </thead>\n",
       "  <tbody>\n",
       "    <tr>\n",
       "      <th>2427</th>\n",
       "      <td>342389</td>\n",
       "      <td>[{'amenityId': None, 'amenityNameEn': '24-hour...</td>\n",
       "      <td>[{'originalImage': 'https://fastui.cltpstatic....</td>\n",
       "      <td>Sea Executive Suites</td>\n",
       "      <td>[{'originalImage': 'https://fastui.cltpstatic....</td>\n",
       "    </tr>\n",
       "    <tr>\n",
       "      <th>2428</th>\n",
       "      <td>4005817</td>\n",
       "      <td>[{'amenityId': None, 'amenityNameEn': '24-hour...</td>\n",
       "      <td>[{'originalImage': 'https://fastui.cltpstatic....</td>\n",
       "      <td>UB Grand Hotel</td>\n",
       "      <td>[{'originalImage': 'https://fastui.cltpstatic....</td>\n",
       "    </tr>\n",
       "  </tbody>\n",
       "</table>\n",
       "</div>"
      ],
      "text/plain": [
       "      hotelId                                          amenities  \\\n",
       "2427   342389  [{'amenityId': None, 'amenityNameEn': '24-hour...   \n",
       "2428  4005817  [{'amenityId': None, 'amenityNameEn': '24-hour...   \n",
       "\n",
       "                                          featuredImage             hotelName  \\\n",
       "2427  [{'originalImage': 'https://fastui.cltpstatic....  Sea Executive Suites   \n",
       "2428  [{'originalImage': 'https://fastui.cltpstatic....        UB Grand Hotel   \n",
       "\n",
       "                                                 images  \n",
       "2427  [{'originalImage': 'https://fastui.cltpstatic....  \n",
       "2428  [{'originalImage': 'https://fastui.cltpstatic....  "
      ]
     },
     "execution_count": 119,
     "metadata": {},
     "output_type": "execute_result"
    }
   ],
   "source": [
    "df_all.tail(2)"
   ]
  },
  {
   "cell_type": "code",
   "execution_count": 120,
   "id": "06a5729a",
   "metadata": {},
   "outputs": [
    {
     "data": {
      "text/html": [
       "<div>\n",
       "<style scoped>\n",
       "    .dataframe tbody tr th:only-of-type {\n",
       "        vertical-align: middle;\n",
       "    }\n",
       "\n",
       "    .dataframe tbody tr th {\n",
       "        vertical-align: top;\n",
       "    }\n",
       "\n",
       "    .dataframe thead th {\n",
       "        text-align: right;\n",
       "    }\n",
       "</style>\n",
       "<table border=\"1\" class=\"dataframe\">\n",
       "  <thead>\n",
       "    <tr style=\"text-align: right;\">\n",
       "      <th></th>\n",
       "      <th>hotelId</th>\n",
       "      <th>hotelName</th>\n",
       "    </tr>\n",
       "  </thead>\n",
       "  <tbody>\n",
       "    <tr>\n",
       "      <th>2428</th>\n",
       "      <td>4005817</td>\n",
       "      <td>UB Grand Hotel</td>\n",
       "    </tr>\n",
       "  </tbody>\n",
       "</table>\n",
       "</div>"
      ],
      "text/plain": [
       "      hotelId       hotelName\n",
       "2428  4005817  UB Grand Hotel"
      ]
     },
     "execution_count": 120,
     "metadata": {},
     "output_type": "execute_result"
    }
   ],
   "source": [
    "# Creating new dataframe to store all images only for hotel id with bad thumbnails\n",
    "df_new = df_all[['hotelId','hotelName']]\n",
    "df_new.tail(1)"
   ]
  },
  {
   "cell_type": "code",
   "execution_count": 57,
   "id": "ad6ed76b",
   "metadata": {},
   "outputs": [],
   "source": [
    "# df_all['images'][5]"
   ]
  },
  {
   "cell_type": "code",
   "execution_count": 121,
   "id": "2dedb390",
   "metadata": {},
   "outputs": [
    {
     "name": "stderr",
     "output_type": "stream",
     "text": [
      "<ipython-input-121-f15afcf7b856>:3: SettingWithCopyWarning: \n",
      "A value is trying to be set on a copy of a slice from a DataFrame.\n",
      "Try using .loc[row_indexer,col_indexer] = value instead\n",
      "\n",
      "See the caveats in the documentation: https://pandas.pydata.org/pandas-docs/stable/user_guide/indexing.html#returning-a-view-versus-a-copy\n",
      "  df_new['ImagesList'] = ''\n"
     ]
    }
   ],
   "source": [
    "## Creating column with images list\n",
    "\n",
    "df_new['ImagesList'] = ''\n",
    "\n",
    "for i in range(df_all.shape[0]):\n",
    "    images = df_all['images'][i]\n",
    "    imagesList = []\n",
    "    \n",
    "    if len(images)>0 :        \n",
    "        for j in range(len(images)):\n",
    "#             data = images[j]['originalImage'] + \"~\" + str(images[j]['imageCategoryName'])+ \"~\"+ str(images[j]['imageSubCategoryName'])\n",
    "#             imagesList.append(data) \n",
    "            imagesList.append(images[j]['originalImage'])\n",
    "            \n",
    "        df_new.at[i, 'ImagesList'] = imagesList\n",
    "        ''' Pandas AT can insert a list into a cell without raising a ValueError as loc does. \n",
    "        I think this is because at always refers to a single value, while loc can refer to values as well as rows and columns.\n",
    "        '''"
   ]
  },
  {
   "cell_type": "code",
   "execution_count": 122,
   "id": "640d28bc",
   "metadata": {},
   "outputs": [
    {
     "data": {
      "text/html": [
       "<div>\n",
       "<style scoped>\n",
       "    .dataframe tbody tr th:only-of-type {\n",
       "        vertical-align: middle;\n",
       "    }\n",
       "\n",
       "    .dataframe tbody tr th {\n",
       "        vertical-align: top;\n",
       "    }\n",
       "\n",
       "    .dataframe thead th {\n",
       "        text-align: right;\n",
       "    }\n",
       "</style>\n",
       "<table border=\"1\" class=\"dataframe\">\n",
       "  <thead>\n",
       "    <tr style=\"text-align: right;\">\n",
       "      <th></th>\n",
       "      <th>hotelId</th>\n",
       "      <th>hotelName</th>\n",
       "      <th>ImagesList</th>\n",
       "    </tr>\n",
       "  </thead>\n",
       "  <tbody>\n",
       "    <tr>\n",
       "      <th>2428</th>\n",
       "      <td>4005817</td>\n",
       "      <td>UB Grand Hotel</td>\n",
       "      <td>[https://fastui.cltpstatic.com/image/upload/ho...</td>\n",
       "    </tr>\n",
       "  </tbody>\n",
       "</table>\n",
       "</div>"
      ],
      "text/plain": [
       "      hotelId       hotelName  \\\n",
       "2428  4005817  UB Grand Hotel   \n",
       "\n",
       "                                             ImagesList  \n",
       "2428  [https://fastui.cltpstatic.com/image/upload/ho...  "
      ]
     },
     "execution_count": 122,
     "metadata": {},
     "output_type": "execute_result"
    }
   ],
   "source": [
    "df_new.tail(1)"
   ]
  },
  {
   "cell_type": "code",
   "execution_count": 128,
   "id": "da001c60",
   "metadata": {},
   "outputs": [],
   "source": [
    "## Saving the lits of images data hotel id wise\n",
    "df_new.to_pickle(\"D:\\OLD Laptop Data\\RADHA-DATA and ML - PROJECT WORK\\ML and MLOPS\\Hotel Features_Search_SRP\\Data\\Priyam_FeaturesImages\\OutputFiles\\ImageList_Hotels.pkl\")"
   ]
  },
  {
   "cell_type": "code",
   "execution_count": 2,
   "id": "02052979",
   "metadata": {},
   "outputs": [],
   "source": [
    "## Read df_new\n",
    "df_new = pd.read_pickle(\"D:\\OLD Laptop Data\\RADHA-DATA and ML - PROJECT WORK\\ML and MLOPS\\Hotel Features_Search_SRP\\Data & Solution\\Priyam_FeaturesImages-Data & Solution\\OutputFiles\\ImageList_Hotels.pkl\")"
   ]
  },
  {
   "cell_type": "code",
   "execution_count": 31,
   "id": "1be67148",
   "metadata": {},
   "outputs": [
    {
     "name": "stdout",
     "output_type": "stream",
     "text": [
      "(2429, 3)\n"
     ]
    },
    {
     "data": {
      "text/html": [
       "<div>\n",
       "<style scoped>\n",
       "    .dataframe tbody tr th:only-of-type {\n",
       "        vertical-align: middle;\n",
       "    }\n",
       "\n",
       "    .dataframe tbody tr th {\n",
       "        vertical-align: top;\n",
       "    }\n",
       "\n",
       "    .dataframe thead th {\n",
       "        text-align: right;\n",
       "    }\n",
       "</style>\n",
       "<table border=\"1\" class=\"dataframe\">\n",
       "  <thead>\n",
       "    <tr style=\"text-align: right;\">\n",
       "      <th></th>\n",
       "      <th>hotelId</th>\n",
       "      <th>hotelName</th>\n",
       "      <th>ImagesList</th>\n",
       "    </tr>\n",
       "  </thead>\n",
       "  <tbody>\n",
       "    <tr>\n",
       "      <th>2427</th>\n",
       "      <td>342389</td>\n",
       "      <td>Sea Executive Suites</td>\n",
       "      <td>[https://fastui.cltpstatic.com/image/upload/ho...</td>\n",
       "    </tr>\n",
       "    <tr>\n",
       "      <th>2428</th>\n",
       "      <td>4005817</td>\n",
       "      <td>UB Grand Hotel</td>\n",
       "      <td>[https://fastui.cltpstatic.com/image/upload/ho...</td>\n",
       "    </tr>\n",
       "  </tbody>\n",
       "</table>\n",
       "</div>"
      ],
      "text/plain": [
       "      hotelId             hotelName  \\\n",
       "2427   342389  Sea Executive Suites   \n",
       "2428  4005817        UB Grand Hotel   \n",
       "\n",
       "                                             ImagesList  \n",
       "2427  [https://fastui.cltpstatic.com/image/upload/ho...  \n",
       "2428  [https://fastui.cltpstatic.com/image/upload/ho...  "
      ]
     },
     "execution_count": 31,
     "metadata": {},
     "output_type": "execute_result"
    }
   ],
   "source": [
    "print(df_new.shape)\n",
    "df_new.tail(2)"
   ]
  },
  {
   "cell_type": "markdown",
   "id": "13be09e8",
   "metadata": {},
   "source": [
    "#### Calling Image Aesthetics Score Utility to fetch top 5 best images for identified hotels "
   ]
  },
  {
   "cell_type": "code",
   "execution_count": 4,
   "id": "0fd23d90",
   "metadata": {},
   "outputs": [],
   "source": [
    "# Importing ImageAesthetic python utility file\n",
    "\n",
    "from ImageAestheticSuggestion_Utility import getBestImages"
   ]
  },
  {
   "cell_type": "code",
   "execution_count": 26,
   "id": "c2c1626a",
   "metadata": {},
   "outputs": [
    {
     "name": "stdout",
     "output_type": "stream",
     "text": [
      "(100, 5)\n"
     ]
    },
    {
     "data": {
      "text/html": [
       "<div>\n",
       "<style scoped>\n",
       "    .dataframe tbody tr th:only-of-type {\n",
       "        vertical-align: middle;\n",
       "    }\n",
       "\n",
       "    .dataframe tbody tr th {\n",
       "        vertical-align: top;\n",
       "    }\n",
       "\n",
       "    .dataframe thead th {\n",
       "        text-align: right;\n",
       "    }\n",
       "</style>\n",
       "<table border=\"1\" class=\"dataframe\">\n",
       "  <thead>\n",
       "    <tr style=\"text-align: right;\">\n",
       "      <th></th>\n",
       "      <th>hotelId</th>\n",
       "      <th>hotelName</th>\n",
       "      <th>ImagesList</th>\n",
       "      <th>Top5Images</th>\n",
       "      <th>BestImage</th>\n",
       "    </tr>\n",
       "  </thead>\n",
       "  <tbody>\n",
       "    <tr>\n",
       "      <th>99</th>\n",
       "      <td>2052778</td>\n",
       "      <td>Kiranshree Grand</td>\n",
       "      <td>[https://fastui.cltpstatic.com/image/upload/ho...</td>\n",
       "      <td></td>\n",
       "      <td></td>\n",
       "    </tr>\n",
       "  </tbody>\n",
       "</table>\n",
       "</div>"
      ],
      "text/plain": [
       "    hotelId         hotelName  \\\n",
       "99  2052778  Kiranshree Grand   \n",
       "\n",
       "                                           ImagesList Top5Images BestImage  \n",
       "99  [https://fastui.cltpstatic.com/image/upload/ho...                       "
      ]
     },
     "execution_count": 26,
     "metadata": {},
     "output_type": "execute_result"
    }
   ],
   "source": [
    "## Creating dataframe chunks\n",
    "df_new1 = df_new.iloc[:100, :].copy().reset_index(drop = True)\n",
    "df_new1['Top5Images']= ''\n",
    "df_new1['BestImage']= ''\n",
    "print(df_new1.shape)\n",
    "df_new1.tail(1)"
   ]
  },
  {
   "cell_type": "code",
   "execution_count": 15,
   "id": "235fdb87",
   "metadata": {},
   "outputs": [
    {
     "data": {
      "text/plain": [
       "('', 65)"
      ]
     },
     "execution_count": 15,
     "metadata": {},
     "output_type": "execute_result"
    }
   ],
   "source": [
    "df_new1.loc[2, 'Top5Images'], len(df_new1['ImagesList'][2])"
   ]
  },
  {
   "cell_type": "code",
   "execution_count": 17,
   "id": "434c5b7b",
   "metadata": {},
   "outputs": [
    {
     "name": "stdout",
     "output_type": "stream",
     "text": [
      "0\n",
      "1\n",
      "2\n",
      "3\n",
      "4\n",
      "5\n",
      "6\n",
      "7\n",
      "8\n",
      "9\n",
      "10\n",
      "11\n",
      "12\n",
      "13\n",
      "14\n",
      "15\n",
      "16\n",
      "17\n",
      "18\n",
      "19\n",
      "20\n",
      "21\n",
      "22\n",
      "23\n",
      "24\n",
      "25\n",
      "26\n",
      "27\n",
      "28\n",
      "29\n",
      "30\n",
      "31\n",
      "32\n",
      "33\n",
      "34\n",
      "35\n",
      "36\n",
      "37\n",
      "38\n",
      "39\n",
      "40\n",
      "41\n",
      "42\n",
      "43\n",
      "44\n",
      "45\n",
      "46\n",
      "47\n",
      "48\n",
      "49\n",
      "50\n",
      "51\n",
      "52\n",
      "53\n",
      "54\n",
      "55\n",
      "56\n",
      "57\n",
      "58\n",
      "59\n",
      "60\n",
      "61\n",
      "62\n",
      "63\n",
      "64\n",
      "65\n",
      "66\n",
      "67\n",
      "68\n",
      "69\n",
      "70\n",
      "71\n",
      "72\n",
      "73\n",
      "74\n",
      "75\n",
      "76\n",
      "77\n",
      "78\n",
      "79\n",
      "80\n",
      "81\n",
      "82\n",
      "83\n",
      "84\n",
      "85\n",
      "86\n",
      "87\n",
      "88\n",
      "89\n",
      "90\n",
      "91\n",
      "92\n",
      "93\n",
      "94\n",
      "95\n",
      "96\n",
      "97\n",
      "98\n",
      "99\n",
      "0.0018675999995139136\n"
     ]
    }
   ],
   "source": [
    "st = timeit.default_timer()\n",
    "\n",
    "for i in range(df_new1.shape[0]):\n",
    "    print(i)\n",
    "    if len(df_new1['ImagesList'][i]) > 0:\n",
    "        bestImages = getBestImages(df_new1['ImagesList'][i])\n",
    "        df_new1.at[i, 'Top5Images'] = bestImages\n",
    "        df_new1.loc[i, 'BestImage'] = bestImages[0]\n",
    "        df_new1.to_excel('D:\\OLD Laptop Data\\RADHA-DATA and ML - PROJECT WORK\\ML and MLOPS\\Hotel Features_Search_SRP\\Data & Solution\\Priyam_FeaturesImages-Data & Solution\\FunctionalityUtilities\\ImageAesthetics Utility\\ImageAestheticOutputFiles\\df_new1.xlsx', index = False)\n",
    "\n",
    "print(f'{(timeit.default_timer()- st)/3600} hours')"
   ]
  },
  {
   "cell_type": "code",
   "execution_count": 28,
   "id": "eda6065d",
   "metadata": {},
   "outputs": [
    {
     "data": {
      "text/plain": [
       "(100, 4)"
      ]
     },
     "execution_count": 28,
     "metadata": {},
     "output_type": "execute_result"
    }
   ],
   "source": [
    "xxx = pd.read_excel('D:\\OLD Laptop Data\\RADHA-DATA and ML - PROJECT WORK\\ML and MLOPS\\Hotel Features_Search_SRP\\Data & Solution\\Priyam_FeaturesImages-Data & Solution\\FunctionalityUtilities\\ImageAesthetics Utility\\ImageAestheticOutputFiles\\df_new1.xlsx')\n",
    "xxx.shape"
   ]
  },
  {
   "cell_type": "code",
   "execution_count": 30,
   "id": "3898f53a",
   "metadata": {},
   "outputs": [
    {
     "data": {
      "text/plain": [
       "\"['https://fastui.cltpstatic.com/image/upload/hotels/places/hotels/cms/2433/2433816/images/image_3724281_original.jpg', 'https://fastui.cltpstatic.com/image/upload/hotels/places/hotels/cms/2433/2433816/images/image_3724271_original.jpg', 'https://fastui.cltpstatic.com/image/upload/hotels/places/hotels/cms/2433/2433816/images/image_3724270_original.jpg', 'https://fastui.cltpstatic.com/image/upload/hotels/places/hotels/cms/2433/2433816/images/image_3724274_original.jpg', 'https://fastui.cltpstatic.com/image/upload/hotels/places/hotels/cms/2433/2433816/images/image_3724264_original.jpg']\""
      ]
     },
     "execution_count": 30,
     "metadata": {},
     "output_type": "execute_result"
    }
   ],
   "source": [
    "xxx.Top5Iamges[55]"
   ]
  },
  {
   "cell_type": "code",
   "execution_count": null,
   "id": "2dfa4b28",
   "metadata": {},
   "outputs": [],
   "source": []
  },
  {
   "cell_type": "code",
   "execution_count": null,
   "id": "91302131",
   "metadata": {},
   "outputs": [],
   "source": []
  },
  {
   "cell_type": "code",
   "execution_count": null,
   "id": "56273e00",
   "metadata": {},
   "outputs": [],
   "source": []
  },
  {
   "cell_type": "code",
   "execution_count": null,
   "id": "306624b5",
   "metadata": {},
   "outputs": [],
   "source": []
  },
  {
   "cell_type": "code",
   "execution_count": null,
   "id": "ba97b43e",
   "metadata": {},
   "outputs": [],
   "source": []
  },
  {
   "cell_type": "code",
   "execution_count": null,
   "id": "7ef5593d",
   "metadata": {},
   "outputs": [],
   "source": []
  },
  {
   "cell_type": "code",
   "execution_count": null,
   "id": "e9d1ef23",
   "metadata": {},
   "outputs": [],
   "source": []
  },
  {
   "cell_type": "code",
   "execution_count": null,
   "id": "4eb08075",
   "metadata": {},
   "outputs": [],
   "source": []
  },
  {
   "cell_type": "code",
   "execution_count": null,
   "id": "b700023b",
   "metadata": {},
   "outputs": [],
   "source": []
  },
  {
   "cell_type": "code",
   "execution_count": null,
   "id": "d3ffa9d7",
   "metadata": {},
   "outputs": [],
   "source": []
  },
  {
   "cell_type": "code",
   "execution_count": null,
   "id": "b8acad45",
   "metadata": {},
   "outputs": [],
   "source": []
  },
  {
   "cell_type": "code",
   "execution_count": null,
   "id": "fed83b46",
   "metadata": {},
   "outputs": [],
   "source": []
  },
  {
   "cell_type": "code",
   "execution_count": 62,
   "id": "9731adcc",
   "metadata": {},
   "outputs": [
    {
     "data": {
      "text/plain": [
       "(126793, 3)"
      ]
     },
     "execution_count": 62,
     "metadata": {},
     "output_type": "execute_result"
    }
   ],
   "source": [
    "## Using PANDAS explode to convert convert list of images to rows of images\n",
    "\n",
    "df_new2 = df_new.explode('ImagesList')\n",
    "df_new2.reset_index(drop= True, inplace= True)\n",
    "df_new2.shape"
   ]
  },
  {
   "cell_type": "code",
   "execution_count": 78,
   "id": "6ca6ea0c",
   "metadata": {},
   "outputs": [],
   "source": [
    "# Renaming column\n",
    "df_new2.rename(columns={'ImagesList': 'OriginalImage'}, inplace= True)"
   ]
  },
  {
   "cell_type": "code",
   "execution_count": 173,
   "id": "eeae0cf7",
   "metadata": {},
   "outputs": [
    {
     "data": {
      "text/html": [
       "<div>\n",
       "<style scoped>\n",
       "    .dataframe tbody tr th:only-of-type {\n",
       "        vertical-align: middle;\n",
       "    }\n",
       "\n",
       "    .dataframe tbody tr th {\n",
       "        vertical-align: top;\n",
       "    }\n",
       "\n",
       "    .dataframe thead th {\n",
       "        text-align: right;\n",
       "    }\n",
       "</style>\n",
       "<table border=\"1\" class=\"dataframe\">\n",
       "  <thead>\n",
       "    <tr style=\"text-align: right;\">\n",
       "      <th></th>\n",
       "      <th>hotelId</th>\n",
       "      <th>hotelName</th>\n",
       "      <th>OriginalImage</th>\n",
       "      <th>ImageAestheticScore</th>\n",
       "    </tr>\n",
       "  </thead>\n",
       "  <tbody>\n",
       "    <tr>\n",
       "      <th>126790</th>\n",
       "      <td>4005817</td>\n",
       "      <td>UB Grand Hotel</td>\n",
       "      <td>https://fastui.cltpstatic.com/image/upload/hot...</td>\n",
       "      <td></td>\n",
       "    </tr>\n",
       "    <tr>\n",
       "      <th>126791</th>\n",
       "      <td>4005817</td>\n",
       "      <td>UB Grand Hotel</td>\n",
       "      <td>https://fastui.cltpstatic.com/image/upload/hot...</td>\n",
       "      <td></td>\n",
       "    </tr>\n",
       "    <tr>\n",
       "      <th>126792</th>\n",
       "      <td>4005817</td>\n",
       "      <td>UB Grand Hotel</td>\n",
       "      <td>https://fastui.cltpstatic.com/image/upload/hot...</td>\n",
       "      <td></td>\n",
       "    </tr>\n",
       "  </tbody>\n",
       "</table>\n",
       "</div>"
      ],
      "text/plain": [
       "        hotelId       hotelName  \\\n",
       "126790  4005817  UB Grand Hotel   \n",
       "126791  4005817  UB Grand Hotel   \n",
       "126792  4005817  UB Grand Hotel   \n",
       "\n",
       "                                            OriginalImage ImageAestheticScore  \n",
       "126790  https://fastui.cltpstatic.com/image/upload/hot...                      \n",
       "126791  https://fastui.cltpstatic.com/image/upload/hot...                      \n",
       "126792  https://fastui.cltpstatic.com/image/upload/hot...                      "
      ]
     },
     "execution_count": 173,
     "metadata": {},
     "output_type": "execute_result"
    }
   ],
   "source": [
    "df_new2.tail(3)"
   ]
  },
  {
   "cell_type": "code",
   "execution_count": 80,
   "id": "32fbe3f8",
   "metadata": {},
   "outputs": [
    {
     "data": {
      "text/plain": [
       "2429"
      ]
     },
     "execution_count": 80,
     "metadata": {},
     "output_type": "execute_result"
    }
   ],
   "source": [
    "df_new2.hotelId.nunique()"
   ]
  },
  {
   "cell_type": "code",
   "execution_count": 87,
   "id": "c223bee6",
   "metadata": {},
   "outputs": [],
   "source": [
    "## Saving df_new2 to pickle\n",
    "\n",
    "df_new2.to_pickle(\"D:\\OLD Laptop Data\\RADHA-DATA and ML - PROJECT WORK\\ML and MLOPS\\Hotel Features_Search_SRP\\Data\\Priyam_FeaturesImages\\OutputFiles\\AllImages_BadThumbnail_Hotels.pkl\")"
   ]
  },
  {
   "cell_type": "code",
   "execution_count": 171,
   "id": "860a1dcb",
   "metadata": {},
   "outputs": [
    {
     "data": {
      "text/plain": [
       "(194144, 12)"
      ]
     },
     "execution_count": 171,
     "metadata": {},
     "output_type": "execute_result"
    }
   ],
   "source": [
    "## Loading the main hotel file toinclude city column\n",
    "df_main = pd.read_excel('D:\\OLD Laptop Data\\RADHA-DATA and ML - PROJECT WORK\\ML and MLOPS\\Hotel Features_Search_SRP\\Hotel_details_WithLatLong.xlsx')\n",
    "df_main.shape"
   ]
  },
  {
   "cell_type": "code",
   "execution_count": 172,
   "id": "d71497c7",
   "metadata": {},
   "outputs": [
    {
     "data": {
      "text/html": [
       "<div>\n",
       "<style scoped>\n",
       "    .dataframe tbody tr th:only-of-type {\n",
       "        vertical-align: middle;\n",
       "    }\n",
       "\n",
       "    .dataframe tbody tr th {\n",
       "        vertical-align: top;\n",
       "    }\n",
       "\n",
       "    .dataframe thead th {\n",
       "        text-align: right;\n",
       "    }\n",
       "</style>\n",
       "<table border=\"1\" class=\"dataframe\">\n",
       "  <thead>\n",
       "    <tr style=\"text-align: right;\">\n",
       "      <th></th>\n",
       "      <th>_id</th>\n",
       "      <th>cityName</th>\n",
       "      <th>stateName</th>\n",
       "      <th>countryName</th>\n",
       "      <th>hotelId</th>\n",
       "      <th>hotelName</th>\n",
       "      <th>locationInfo.latitude</th>\n",
       "      <th>locationInfo.longitude</th>\n",
       "      <th>locationInfo.address</th>\n",
       "      <th>locationInfo.zip</th>\n",
       "      <th>basicInfo.description</th>\n",
       "      <th>ratings.starRating</th>\n",
       "    </tr>\n",
       "  </thead>\n",
       "  <tbody>\n",
       "    <tr>\n",
       "      <th>0</th>\n",
       "      <td>6458a5dc5b7d69a187699ce4</td>\n",
       "      <td>Agra</td>\n",
       "      <td>Uttar Pradesh</td>\n",
       "      <td>India</td>\n",
       "      <td>3924357</td>\n",
       "      <td>Hotel Gopal</td>\n",
       "      <td>27.160808</td>\n",
       "      <td>78.030623</td>\n",
       "      <td>Near Kailash Cinema, Fatehabad Road, Agra, Utt...</td>\n",
       "      <td>282001</td>\n",
       "      <td>NaN</td>\n",
       "      <td>1.0</td>\n",
       "    </tr>\n",
       "  </tbody>\n",
       "</table>\n",
       "</div>"
      ],
      "text/plain": [
       "                        _id cityName      stateName countryName  hotelId  \\\n",
       "0  6458a5dc5b7d69a187699ce4     Agra  Uttar Pradesh       India  3924357   \n",
       "\n",
       "     hotelName  locationInfo.latitude  locationInfo.longitude  \\\n",
       "0  Hotel Gopal              27.160808               78.030623   \n",
       "\n",
       "                                locationInfo.address locationInfo.zip  \\\n",
       "0  Near Kailash Cinema, Fatehabad Road, Agra, Utt...           282001   \n",
       "\n",
       "  basicInfo.description  ratings.starRating  \n",
       "0                   NaN                 1.0  "
      ]
     },
     "execution_count": 172,
     "metadata": {},
     "output_type": "execute_result"
    }
   ],
   "source": [
    "df_main.head(1)"
   ]
  },
  {
   "cell_type": "code",
   "execution_count": 174,
   "id": "caac1eda",
   "metadata": {},
   "outputs": [],
   "source": [
    "dfGoa = df_new2.drop(columns=['ImageAestheticScore'])"
   ]
  },
  {
   "cell_type": "code",
   "execution_count": 176,
   "id": "fa65d44c",
   "metadata": {},
   "outputs": [
    {
     "data": {
      "text/plain": [
       "(126793, 3)"
      ]
     },
     "execution_count": 176,
     "metadata": {},
     "output_type": "execute_result"
    }
   ],
   "source": [
    "dfGoa.shape"
   ]
  },
  {
   "cell_type": "code",
   "execution_count": 179,
   "id": "cc0448f3",
   "metadata": {},
   "outputs": [
    {
     "data": {
      "text/plain": [
       "(126829, 6)"
      ]
     },
     "execution_count": 179,
     "metadata": {},
     "output_type": "execute_result"
    }
   ],
   "source": [
    "dfGoa2 = pd.merge(dfGoa, df_main[['hotelId', 'cityName', 'stateName', 'countryName']], left_on = 'hotelId', right_on = 'hotelId',\n",
    "                 how= 'left')\n",
    "dfGoa2.shape"
   ]
  },
  {
   "cell_type": "code",
   "execution_count": 180,
   "id": "0eb2b598",
   "metadata": {},
   "outputs": [
    {
     "data": {
      "text/html": [
       "<div>\n",
       "<style scoped>\n",
       "    .dataframe tbody tr th:only-of-type {\n",
       "        vertical-align: middle;\n",
       "    }\n",
       "\n",
       "    .dataframe tbody tr th {\n",
       "        vertical-align: top;\n",
       "    }\n",
       "\n",
       "    .dataframe thead th {\n",
       "        text-align: right;\n",
       "    }\n",
       "</style>\n",
       "<table border=\"1\" class=\"dataframe\">\n",
       "  <thead>\n",
       "    <tr style=\"text-align: right;\">\n",
       "      <th></th>\n",
       "      <th>hotelId</th>\n",
       "      <th>hotelName</th>\n",
       "      <th>OriginalImage</th>\n",
       "      <th>cityName</th>\n",
       "      <th>stateName</th>\n",
       "      <th>countryName</th>\n",
       "    </tr>\n",
       "  </thead>\n",
       "  <tbody>\n",
       "    <tr>\n",
       "      <th>0</th>\n",
       "      <td>3938571</td>\n",
       "      <td>Havelock Island Beach Resort</td>\n",
       "      <td></td>\n",
       "      <td>Havelock Island</td>\n",
       "      <td>Andaman and Nicobar Islands</td>\n",
       "      <td>India</td>\n",
       "    </tr>\n",
       "  </tbody>\n",
       "</table>\n",
       "</div>"
      ],
      "text/plain": [
       "   hotelId                     hotelName OriginalImage         cityName  \\\n",
       "0  3938571  Havelock Island Beach Resort                Havelock Island   \n",
       "\n",
       "                     stateName countryName  \n",
       "0  Andaman and Nicobar Islands       India  "
      ]
     },
     "execution_count": 180,
     "metadata": {},
     "output_type": "execute_result"
    }
   ],
   "source": [
    "dfGoa2.head(1)"
   ]
  },
  {
   "cell_type": "code",
   "execution_count": 182,
   "id": "8bd96293",
   "metadata": {},
   "outputs": [
    {
     "data": {
      "text/plain": [
       "(3888, 6)"
      ]
     },
     "execution_count": 182,
     "metadata": {},
     "output_type": "execute_result"
    }
   ],
   "source": [
    "dfGoa3 = dfGoa2[dfGoa2.stateName == 'Goa']\n",
    "dfGoa3.shape"
   ]
  },
  {
   "cell_type": "code",
   "execution_count": 184,
   "id": "84cb43a9",
   "metadata": {},
   "outputs": [
    {
     "data": {
      "text/plain": [
       "68"
      ]
     },
     "execution_count": 184,
     "metadata": {},
     "output_type": "execute_result"
    }
   ],
   "source": [
    "dfGoa3.hotelId.nunique()"
   ]
  },
  {
   "cell_type": "code",
   "execution_count": null,
   "id": "a0973519",
   "metadata": {},
   "outputs": [],
   "source": []
  },
  {
   "cell_type": "code",
   "execution_count": 183,
   "id": "1d274453",
   "metadata": {},
   "outputs": [],
   "source": [
    "## SAving GOA DATA\n",
    "dfGoa3.to_excel('D:\\OLD Laptop Data\\RADHA-DATA and ML - PROJECT WORK\\ML and MLOPS\\Hotel Features_Search_SRP\\Data\\GoaHotelImages.xlsx',\n",
    "               index = False)"
   ]
  },
  {
   "cell_type": "code",
   "execution_count": null,
   "id": "3709723d",
   "metadata": {},
   "outputs": [],
   "source": []
  },
  {
   "cell_type": "code",
   "execution_count": null,
   "id": "1121aa99",
   "metadata": {},
   "outputs": [],
   "source": []
  },
  {
   "cell_type": "markdown",
   "id": "063b03b0",
   "metadata": {},
   "source": [
    "## Logic to find better thumbnail Image - Image Aesthetic Score\n",
    "\n",
    "- Function with input - hotel id and list of all images in that hotel\n",
    "- Call Suresh's function to give aesthetic score for images of that hotel id, for selected categories (facade, bedroom, etc)\n",
    "- Output - give image to be shown as thumbnail"
   ]
  },
  {
   "cell_type": "code",
   "execution_count": 88,
   "id": "e9b45a36",
   "metadata": {},
   "outputs": [],
   "source": [
    "df_new2 = pd.read_pickle(\"D:\\OLD Laptop Data\\RADHA-DATA and ML - PROJECT WORK\\ML and MLOPS\\Hotel Features_Search_SRP\\Data\\Priyam_FeaturesImages\\OutputFiles\\AllImages_BadThumbnail_Hotels.pkl\")"
   ]
  },
  {
   "cell_type": "code",
   "execution_count": 66,
   "id": "d50bdab2",
   "metadata": {},
   "outputs": [],
   "source": [
    "def cosine_similarity(vec1, vec2):\n",
    "    # Compute the dot product of vec1 and vec2\n",
    "    dot_product = np.dot(vec1, vec2)\n",
    "    \n",
    "    # Compute the L2 norm of vec1 and vec2\n",
    "    norm_vec1 = np.linalg.norm(vec1)\n",
    "    norm_vec2 = np.linalg.norm(vec2)\n",
    "    \n",
    "    # Compute the cosine similarity\n",
    "    similarity = dot_product / (norm_vec1 * norm_vec2)\n",
    "    \n",
    "    return similarity"
   ]
  },
  {
   "cell_type": "code",
   "execution_count": 69,
   "id": "4fdb2120",
   "metadata": {},
   "outputs": [],
   "source": [
    "with open('D:\\OLD Laptop Data\\RADHA-DATA and ML - PROJECT WORK\\ML and MLOPS\\Hotel Features_Search_SRP\\Data\\Priyam_FeaturesImages\\ImageAestheticsInputFiles\\hotel_positive_prompt.pkl', 'rb') as f:\n",
    "    average_positive_vector = pickle.load(f)\n",
    "with open('D:\\OLD Laptop Data\\RADHA-DATA and ML - PROJECT WORK\\ML and MLOPS\\Hotel Features_Search_SRP\\Data\\Priyam_FeaturesImages\\ImageAestheticsInputFiles\\hotel_negative_prompt.pkl', 'rb') as f:\n",
    "    average_negative_vector = pickle.load(f)"
   ]
  },
  {
   "cell_type": "code",
   "execution_count": 74,
   "id": "6abeface",
   "metadata": {},
   "outputs": [],
   "source": [
    "def predict_ImageAestheticScore(img_url):\n",
    "    imageResponse = requests.get(img_url)  #Image.open(img_url)\n",
    "    if imageResponse.status_code == 200:  # fetching jpg img\n",
    "        image1 = Image.open(BytesIO(imageResponse.content))\n",
    "    \n",
    "#     image1 = load_image_PIL(img_url)\n",
    "    with torch.no_grad():\n",
    "        inputs1 = processor(images=image1, return_tensors=\"pt\").to(device)\n",
    "        image_features1 = model.get_image_features(**inputs1)\n",
    "    image_vector=image_features1.numpy()\n",
    "    positive_similarity=cosine_similarity(average_positive_vector,np.transpose(image_vector))\n",
    "    negative_similarity=cosine_similarity(average_negative_vector,np.transpose(image_vector))\n",
    "    aesthetic_score=positive_similarity+(-1*negative_similarity)\n",
    "    return aesthetic_score*1000"
   ]
  },
  {
   "cell_type": "code",
   "execution_count": 81,
   "id": "8d535354",
   "metadata": {},
   "outputs": [
    {
     "name": "stdout",
     "output_type": "stream",
     "text": [
      "1.3604267999999138\n"
     ]
    }
   ],
   "source": [
    "# start = timeit.default_timer()\n",
    "# predict_ImageAestheticScore(df_new2['OriginalImage'][1])\n",
    "# end = timeit.default_timer()\n",
    "# print(end-start)"
   ]
  },
  {
   "cell_type": "code",
   "execution_count": 89,
   "id": "d2737cfb",
   "metadata": {},
   "outputs": [
    {
     "data": {
      "text/plain": [
       "52.830416666666665"
      ]
     },
     "execution_count": 89,
     "metadata": {},
     "output_type": "execute_result"
    }
   ],
   "source": [
    "(1.50*126793)/3600  ## Time for all 1.26 lakhs images = 52 hours"
   ]
  },
  {
   "cell_type": "code",
   "execution_count": 82,
   "id": "3748acdc",
   "metadata": {},
   "outputs": [],
   "source": [
    "## creating column for Aesthetic Score of image\n",
    "df_new2['ImageAestheticScore'] = ''"
   ]
  },
  {
   "cell_type": "code",
   "execution_count": 91,
   "id": "dd2d8dcd",
   "metadata": {},
   "outputs": [],
   "source": [
    "# start = timeit.default_timer()\n",
    "\n",
    "# df_new2['ImageAestheticScore'] = df_new2['OriginalImage'].map(lambda x : predict_ImageAestheticScore(x) if ((x!='') and (x is not None)) else '')\n",
    "\n",
    "# end = timeit.default_timer()\n",
    "# print(end-start)"
   ]
  },
  {
   "cell_type": "markdown",
   "id": "f3bf1fff",
   "metadata": {},
   "source": [
    "# 1. Utility - Image Thumbnail"
   ]
  },
  {
   "cell_type": "code",
   "execution_count": 102,
   "id": "b0118373",
   "metadata": {},
   "outputs": [
    {
     "data": {
      "text/plain": [
       "'https://fastui.cltpstatic.com/image/upload/hotels/places/hotels/cms/3961/3961864/images/image_3961864_2ef88de5-f9be-4211-8bea-599afbed3d69.jpeg'"
      ]
     },
     "execution_count": 102,
     "metadata": {},
     "output_type": "execute_result"
    }
   ],
   "source": [
    "df_new2['OriginalImage'][1]"
   ]
  },
  {
   "cell_type": "code",
   "execution_count": 109,
   "id": "1b4bef31",
   "metadata": {},
   "outputs": [
    {
     "name": "stdout",
     "output_type": "stream",
     "text": [
      "Hi\n",
      "['Restroom', 'Gym', 'Other', 'Reception Area', 'Bar', '', None]\n",
      "https://fastui.cltpstatic.com/image/upload/hotels/places/hotels/cms/3961/3961864/images/image_3961864_2ef88de5-f9be-4211-8bea-599afbed3d69.jpeg\n",
      "2\n",
      "Restroom\n"
     ]
    }
   ],
   "source": [
    "# Format !python filename url\n",
    "\n",
    "!python \"D:\\OLD Laptop Data\\RADHA-DATA and ML - PROJECT WORK\\ML and MLOPS\\Hotel Features_Search_SRP\\Data\\Priyam_FeaturesImages\\FunctionalityUtilities\\ImageDuplicationIdentification.py\" \"https://fastui.cltpstatic.com/image/upload/hotels/places/hotels/cms/3961/3961864/images/image_3961864_2ef88de5-f9be-4211-8bea-599afbed3d69.jpeg\""
   ]
  },
  {
   "cell_type": "code",
   "execution_count": 111,
   "id": "d27deda6",
   "metadata": {},
   "outputs": [],
   "source": [
    "# a,b  =os.system(\"D:\\OLD Laptop Data\\RADHA-DATA and ML - PROJECT WORK\\ML and MLOPS\\Hotel Features_Search_SRP\\Data\\Priyam_FeaturesImages\\FunctionalityUtilities\\ImageDuplicationIdentification.py https://fastui.cltpstatic.com/image/upload/hotels/places/hotels/cms/3961/3961864/images/image_3961864_2ef88de5-f9be-4211-8bea-599afbed3d69.jpeg\")"
   ]
  },
  {
   "cell_type": "code",
   "execution_count": 165,
   "id": "2658e281",
   "metadata": {},
   "outputs": [
    {
     "name": "stdout",
     "output_type": "stream",
     "text": [
      "Restroom-1\n",
      "\n"
     ]
    }
   ],
   "source": [
    "import subprocess\n",
    "\n",
    "# Replace 'your_script.py' with the path to your Python script.\n",
    "python_script = 'D:\\OLD Laptop Data\\RADHA-DATA and ML - PROJECT WORK\\ML and MLOPS\\Hotel Features_Search_SRP\\Data\\Priyam_FeaturesImages\\FunctionalityUtilities\\ImageDuplicationIdentification.py'\n",
    "\n",
    "# Replace 'param1' and 'param2' with your input parameters.\n",
    "param1 = df_new2['OriginalImage'][1]\n",
    "\n",
    "# Construct the command to run the Python script with input parameters.\n",
    "cmd = ['python', python_script, param1]\n",
    "\n",
    "# Run the command and capture the output in a variable.\n",
    "output = subprocess.check_output(cmd, universal_newlines=True)\n",
    "print(str(output))"
   ]
  },
  {
   "cell_type": "code",
   "execution_count": 167,
   "id": "73e6e864",
   "metadata": {},
   "outputs": [
    {
     "name": "stdout",
     "output_type": "stream",
     "text": [
      "CompletedProcess(args=['python', 'D:\\\\OLD Laptop Data\\\\RADHA-DATA and ML - PROJECT WORK\\\\ML and MLOPS\\\\Hotel Features_Search_SRP\\\\Data\\\\Priyam_FeaturesImages\\\\FunctionalityUtilities\\\\ImageDuplicationIdentification.py', 'https://fastui.cltpstatic.com/image/upload/hotels/places/hotels/cms/3961/3961864/images/image_3961864_2ef88de5-f9be-4211-8bea-599afbed3d69.jpeg'], returncode=0, stdout=b'Restroom\\r\\n')\n"
     ]
    },
    {
     "data": {
      "text/plain": [
       "'Restroom\\r\\n'"
      ]
     },
     "execution_count": 167,
     "metadata": {},
     "output_type": "execute_result"
    }
   ],
   "source": [
    "# Replace 'your_script.py' with the path to your Python script.\n",
    "python_script = 'D:\\OLD Laptop Data\\RADHA-DATA and ML - PROJECT WORK\\ML and MLOPS\\Hotel Features_Search_SRP\\Data\\Priyam_FeaturesImages\\FunctionalityUtilities\\ImageDuplicationIdentification.py'\n",
    "\n",
    "# Replace 'param1' and 'param2' with your input parameters.\n",
    "param1 = df_new2['OriginalImage'][1]\n",
    "\n",
    "# Construct the command to run the Python script with input parameters.\n",
    "cmd = ['python', python_script, param1]\n",
    "# Call the subprocess\n",
    "result = subprocess.run(cmd, stdout=subprocess.PIPE)\n",
    "print(result)\n",
    "\n",
    "# Get the output and decode it\n",
    "output = result.stdout.decode('utf-8')\n",
    "output"
   ]
  },
  {
   "cell_type": "markdown",
   "id": "31bc65b1",
   "metadata": {},
   "source": [
    "# UTILITY - IMAGE AESTHETIC SCORE"
   ]
  },
  {
   "cell_type": "code",
   "execution_count": 170,
   "id": "200cb21e",
   "metadata": {},
   "outputs": [],
   "source": [
    "# str(df_new['ImagesList'][200])[1:-1].split(',')"
   ]
  },
  {
   "cell_type": "code",
   "execution_count": 143,
   "id": "bf1111ec",
   "metadata": {},
   "outputs": [
    {
     "data": {
      "text/plain": [
       "'https://fastui.cltpstatic.com/image/upload/hotels/places/hotels/cms/3974/3974419/images/image_2805615_original.jpg'"
      ]
     },
     "execution_count": 143,
     "metadata": {},
     "output_type": "execute_result"
    }
   ],
   "source": [
    "str(df_new['ImagesList'][200])[1:-1].split(',')[3].strip()[1:-1].strip()\n",
    "# imgList = [i.strip()[1:-1].strip() for i in df3['UniqueImagesList'][j][1:-1].split(',')]"
   ]
  },
  {
   "cell_type": "code",
   "execution_count": 150,
   "id": "b5e38ac3",
   "metadata": {},
   "outputs": [
    {
     "name": "stdout",
     "output_type": "stream",
     "text": [
      "No images found.\n",
      "{}\n",
      "\n"
     ]
    }
   ],
   "source": [
    "## TEST 1\n",
    "# Replace 'your_script.py' with the path to your Python script.\n",
    "python_script = 'D:\\OLD Laptop Data\\RADHA-DATA and ML - PROJECT WORK\\ML and MLOPS\\Hotel Features_Search_SRP\\Data\\Priyam_FeaturesImages\\FunctionalityUtilities\\ImageAestheticScore.py'\n",
    "\n",
    "# Input parameter is list of images asa string. \n",
    "param1 = ''\n",
    "\n",
    "# Construct the command to run the Python script with input parameters.\n",
    "cmd = ['python', python_script, param1]\n",
    "\n",
    "# Run the command and capture the output in a variable.\n",
    "output = subprocess.check_output(cmd, universal_newlines=True)\n",
    "print(output)"
   ]
  },
  {
   "cell_type": "code",
   "execution_count": 151,
   "id": "c2bfaaa6",
   "metadata": {},
   "outputs": [
    {
     "name": "stdout",
     "output_type": "stream",
     "text": [
      "{'https://fastui.cltpstatic.com/image/upload/hotels/places/hotels/cms/3974/3974419/images/image_2805613_original.jpg': 32.394497, 'https://fastui.cltpstatic.com/image/upload/hotels/places/hotels/cms/3974/3974419/images/image_2805646_original.jpg': 32.394497, 'https://fastui.cltpstatic.com/image/upload/hotels/places/hotels/cms/3974/3974419/images/image_2805614_original.jpg': 32.116398, 'https://fastui.cltpstatic.com/image/upload/hotels/places/hotels/cms/3974/3974419/images/image_2805645_original.jpg': 32.116398, 'https://fastui.cltpstatic.com/image/upload/hotels/places/hotels/cms/3974/3974419/images/image_2805616_original.jpg': 12.888193, 'https://fastui.cltpstatic.com/image/upload/hotels/places/hotels/cms/3974/3974419/images/image_2805615_original.jpg': 12.835041, 'https://fastui.cltpstatic.com/image/upload/hotels/places/hotels/cms/3974/3974419/images/image_2805617_original.jpg': 7.888332, 'https://fastui.cltpstatic.com/image/upload/hotels/places/hotels/cms/3974/3974419/images/image_2805612_original.jpg': 4.523918}\n",
      "\n"
     ]
    }
   ],
   "source": [
    "## TEST 2\n",
    "\n",
    "# Input parameter is list of images asa string. \n",
    "param1 = str(df_new['ImagesList'][200])\n",
    "\n",
    "# Construct the command to run the Python script with input parameters.\n",
    "cmd = ['python', python_script, param1]\n",
    "\n",
    "# Run the command and capture the output in a variable.\n",
    "output = subprocess.check_output(cmd, universal_newlines=True)\n",
    "print(output)"
   ]
  },
  {
   "cell_type": "code",
   "execution_count": 169,
   "id": "48ebd4ee",
   "metadata": {},
   "outputs": [
    {
     "ename": "CalledProcessError",
     "evalue": "Command '['python', 'D:\\\\OLD Laptop Data\\\\RADHA-DATA and ML - PROJECT WORK\\\\ML and MLOPS\\\\Hotel Features_Search_SRP\\\\Data\\\\Priyam_FeaturesImages\\\\FunctionalityUtilities\\\\ImageDuplicationIdentification.py', \"['https://fastui.cltpstatic.com/image/upload/hotels/places/hotels/cms/3974/3974419/images/image_2805612_original.jpg', 'https://fastui.cltpstatic.com/image/upload/hotels/places/hotels/cms/3974/3974419/images/image_2805613_original.jpg', 'https://fastui.cltpstatic.com/image/upload/hotels/places/hotels/cms/3974/3974419/images/image_2805614_original.jpg', 'https://fastui.cltpstatic.com/image/upload/hotels/places/hotels/cms/3974/3974419/images/image_2805615_original.jpg', 'https://fastui.cltpstatic.com/image/upload/hotels/places/hotels/cms/3974/3974419/images/image_2805616_original.jpg', 'https://fastui.cltpstatic.com/image/upload/hotels/places/hotels/cms/3974/3974419/images/image_2805617_original.jpg', 'https://fastui.cltpstatic.com/image/upload/hotels/places/hotels/cms/3974/3974419/images/image_2805645_original.jpg', 'https://fastui.cltpstatic.com/image/upload/hotels/places/hotels/cms/3974/3974419/images/image_2805646_original.jpg']\"]' returned non-zero exit status 1.",
     "output_type": "error",
     "traceback": [
      "\u001b[1;31m---------------------------------------------------------------------------\u001b[0m",
      "\u001b[1;31mCalledProcessError\u001b[0m                        Traceback (most recent call last)",
      "\u001b[1;32m<ipython-input-169-e02d521e86f2>\u001b[0m in \u001b[0;36m<module>\u001b[1;34m\u001b[0m\n\u001b[0;32m     22\u001b[0m \u001b[1;33m\u001b[0m\u001b[0m\n\u001b[0;32m     23\u001b[0m \u001b[1;31m# Run the command and capture the output in a variable.\u001b[0m\u001b[1;33m\u001b[0m\u001b[1;33m\u001b[0m\u001b[1;33m\u001b[0m\u001b[0m\n\u001b[1;32m---> 24\u001b[1;33m \u001b[0moutput\u001b[0m \u001b[1;33m=\u001b[0m \u001b[0msubprocess\u001b[0m\u001b[1;33m.\u001b[0m\u001b[0mcheck_output\u001b[0m\u001b[1;33m(\u001b[0m\u001b[0mcmd\u001b[0m\u001b[1;33m,\u001b[0m \u001b[0muniversal_newlines\u001b[0m\u001b[1;33m=\u001b[0m\u001b[1;32mTrue\u001b[0m\u001b[1;33m)\u001b[0m\u001b[1;33m\u001b[0m\u001b[1;33m\u001b[0m\u001b[0m\n\u001b[0m\u001b[0;32m     25\u001b[0m \u001b[0mprint\u001b[0m\u001b[1;33m(\u001b[0m\u001b[0moutput\u001b[0m\u001b[1;33m)\u001b[0m\u001b[1;33m\u001b[0m\u001b[1;33m\u001b[0m\u001b[0m\n",
      "\u001b[1;32mC:\\ProgramData\\Anaconda3\\lib\\subprocess.py\u001b[0m in \u001b[0;36mcheck_output\u001b[1;34m(timeout, *popenargs, **kwargs)\u001b[0m\n\u001b[0;32m    413\u001b[0m         \u001b[0mkwargs\u001b[0m\u001b[1;33m[\u001b[0m\u001b[1;34m'input'\u001b[0m\u001b[1;33m]\u001b[0m \u001b[1;33m=\u001b[0m \u001b[0mempty\u001b[0m\u001b[1;33m\u001b[0m\u001b[1;33m\u001b[0m\u001b[0m\n\u001b[0;32m    414\u001b[0m \u001b[1;33m\u001b[0m\u001b[0m\n\u001b[1;32m--> 415\u001b[1;33m     return run(*popenargs, stdout=PIPE, timeout=timeout, check=True,\n\u001b[0m\u001b[0;32m    416\u001b[0m                **kwargs).stdout\n\u001b[0;32m    417\u001b[0m \u001b[1;33m\u001b[0m\u001b[0m\n",
      "\u001b[1;32mC:\\ProgramData\\Anaconda3\\lib\\subprocess.py\u001b[0m in \u001b[0;36mrun\u001b[1;34m(input, capture_output, timeout, check, *popenargs, **kwargs)\u001b[0m\n\u001b[0;32m    514\u001b[0m         \u001b[0mretcode\u001b[0m \u001b[1;33m=\u001b[0m \u001b[0mprocess\u001b[0m\u001b[1;33m.\u001b[0m\u001b[0mpoll\u001b[0m\u001b[1;33m(\u001b[0m\u001b[1;33m)\u001b[0m\u001b[1;33m\u001b[0m\u001b[1;33m\u001b[0m\u001b[0m\n\u001b[0;32m    515\u001b[0m         \u001b[1;32mif\u001b[0m \u001b[0mcheck\u001b[0m \u001b[1;32mand\u001b[0m \u001b[0mretcode\u001b[0m\u001b[1;33m:\u001b[0m\u001b[1;33m\u001b[0m\u001b[1;33m\u001b[0m\u001b[0m\n\u001b[1;32m--> 516\u001b[1;33m             raise CalledProcessError(retcode, process.args,\n\u001b[0m\u001b[0;32m    517\u001b[0m                                      output=stdout, stderr=stderr)\n\u001b[0;32m    518\u001b[0m     \u001b[1;32mreturn\u001b[0m \u001b[0mCompletedProcess\u001b[0m\u001b[1;33m(\u001b[0m\u001b[0mprocess\u001b[0m\u001b[1;33m.\u001b[0m\u001b[0margs\u001b[0m\u001b[1;33m,\u001b[0m \u001b[0mretcode\u001b[0m\u001b[1;33m,\u001b[0m \u001b[0mstdout\u001b[0m\u001b[1;33m,\u001b[0m \u001b[0mstderr\u001b[0m\u001b[1;33m)\u001b[0m\u001b[1;33m\u001b[0m\u001b[1;33m\u001b[0m\u001b[0m\n",
      "\u001b[1;31mCalledProcessError\u001b[0m: Command '['python', 'D:\\\\OLD Laptop Data\\\\RADHA-DATA and ML - PROJECT WORK\\\\ML and MLOPS\\\\Hotel Features_Search_SRP\\\\Data\\\\Priyam_FeaturesImages\\\\FunctionalityUtilities\\\\ImageDuplicationIdentification.py', \"['https://fastui.cltpstatic.com/image/upload/hotels/places/hotels/cms/3974/3974419/images/image_2805612_original.jpg', 'https://fastui.cltpstatic.com/image/upload/hotels/places/hotels/cms/3974/3974419/images/image_2805613_original.jpg', 'https://fastui.cltpstatic.com/image/upload/hotels/places/hotels/cms/3974/3974419/images/image_2805614_original.jpg', 'https://fastui.cltpstatic.com/image/upload/hotels/places/hotels/cms/3974/3974419/images/image_2805615_original.jpg', 'https://fastui.cltpstatic.com/image/upload/hotels/places/hotels/cms/3974/3974419/images/image_2805616_original.jpg', 'https://fastui.cltpstatic.com/image/upload/hotels/places/hotels/cms/3974/3974419/images/image_2805617_original.jpg', 'https://fastui.cltpstatic.com/image/upload/hotels/places/hotels/cms/3974/3974419/images/image_2805645_original.jpg', 'https://fastui.cltpstatic.com/image/upload/hotels/places/hotels/cms/3974/3974419/images/image_2805646_original.jpg']\"]' returned non-zero exit status 1."
     ]
    }
   ],
   "source": [
    "# ## TEST 2\n",
    "\n",
    "# # Input parameter is list of images asa string. \n",
    "# param1 = str(df_new['ImagesList'][200])\n",
    "\n",
    "# # Construct the command to run the Python script with input parameters.\n",
    "# cmd = ['python', python_script, param1]\n",
    "\n",
    "# # Run the command and capture the output in a variable.\n",
    "# # output = subprocess.check_output(cmd, universal_newlines=True)\n",
    "# # print(output)\n",
    "# try:\n",
    "#     subprocess.check_output(cmd , shell=True, stderr=subprocess.STDOUT)\n",
    "# except subprocess.CalledProcessError as e:\n",
    "#     raise RuntimeError(\"command '{}' return with error (code {}): {}\".format(e.cmd, e.returncode, e.output))\n",
    "    \n",
    "    # Input parameter is list of images asa string. \n",
    "param1 = str(df_new['ImagesList'][200])\n",
    "\n",
    "# Construct the command to run the Python script with input parameters.\n",
    "cmd = ['python', python_script, param1]\n",
    "\n",
    "# Run the command and capture the output in a variable.\n",
    "output = subprocess.check_output(cmd, universal_newlines=True)\n",
    "print(output)"
   ]
  },
  {
   "cell_type": "code",
   "execution_count": null,
   "id": "d60d54cc",
   "metadata": {},
   "outputs": [],
   "source": []
  }
 ],
 "metadata": {
  "kernelspec": {
   "display_name": "Python 3",
   "language": "python",
   "name": "python3"
  },
  "language_info": {
   "codemirror_mode": {
    "name": "ipython",
    "version": 3
   },
   "file_extension": ".py",
   "mimetype": "text/x-python",
   "name": "python",
   "nbconvert_exporter": "python",
   "pygments_lexer": "ipython3",
   "version": "3.8.8"
  }
 },
 "nbformat": 4,
 "nbformat_minor": 5
}
